{
 "cells": [
  {
   "cell_type": "markdown",
   "metadata": {},
   "source": [
    "# List Comprehensions\n",
    "\n",
    "List comprehensions provide a concise way to create a sequential list of elements. \n",
    "\n",
    "Two general syntaxes for list comprehensions:\n",
    "\n",
    "```python \n",
    "    [expression for item in iterable]\n",
    "    [expression for item in iterable if condition]\n",
    "```"
   ]
  },
  {
   "cell_type": "code",
   "execution_count": 1,
   "metadata": {},
   "outputs": [
    {
     "name": "stdout",
     "output_type": "stream",
     "text": [
      "3.5 ms ± 63.4 µs per loop (mean ± std. dev. of 7 runs, 100 loops each)\n"
     ]
    }
   ],
   "source": [
    "%timeit L = [m ** 2 for m in range(1, 5000)]"
   ]
  },
  {
   "cell_type": "code",
   "execution_count": 2,
   "metadata": {},
   "outputs": [
    {
     "name": "stdout",
     "output_type": "stream",
     "text": [
      "3.84 ms ± 101 µs per loop (mean ± std. dev. of 7 runs, 100 loops each)\n"
     ]
    }
   ],
   "source": [
    "%%timeit\n",
    "L = []\n",
    "for m in range(1, 5000):\n",
    "    L.append(m ** 2)"
   ]
  },
  {
   "cell_type": "code",
   "execution_count": 3,
   "metadata": {},
   "outputs": [
    {
     "name": "stdout",
     "output_type": "stream",
     "text": [
      "778 µs ± 2.22 µs per loop (mean ± std. dev. of 7 runs, 1000 loops each)\n"
     ]
    }
   ],
   "source": [
    "# Extract numbers divisible by 2 and 3\n",
    "%timeit L = [x for x in range(1, 5000) if (x % 2 == 0 and x % 3 == 0) ]"
   ]
  },
  {
   "cell_type": "code",
   "execution_count": 4,
   "metadata": {},
   "outputs": [
    {
     "name": "stdout",
     "output_type": "stream",
     "text": [
      "819 µs ± 5.27 µs per loop (mean ± std. dev. of 7 runs, 1000 loops each)\n"
     ]
    }
   ],
   "source": [
    "%%timeit\n",
    "L = []\n",
    "for x in range(1, 5000):\n",
    "    if x % 2 == 0 and x % 3 == 0:\n",
    "        L.append(x)"
   ]
  },
  {
   "cell_type": "markdown",
   "metadata": {},
   "source": [
    "**We can see that list comprehensions are faster than traditional for-loop construction.**"
   ]
  },
  {
   "cell_type": "code",
   "execution_count": 5,
   "metadata": {},
   "outputs": [
    {
     "name": "stdout",
     "output_type": "stream",
     "text": [
      "7\t5\t9\t\n",
      "3\t6\t2\t\n",
      "Transpose is:\n",
      "************************\n",
      "7\t3\t\n",
      "5\t6\t\n",
      "9\t2\t\n"
     ]
    }
   ],
   "source": [
    "A = [[7, 5, 9], [3, 6, 2]]\n",
    "for row in A:\n",
    "    for value in row:\n",
    "        print(value, end='\\t')\n",
    "    print()\n",
    "# tA = [[A[j][i] for j in range(len(A))] for i in range(len(A[0]))]\n",
    "tA = [[row[i] for row in A] for i in range(len(A[0]))]\n",
    "print('Transpose is:')\n",
    "print('************************')\n",
    "for row in tA:\n",
    "    for value in row:\n",
    "        print(value, end='\\t')\n",
    "    print()\n"
   ]
  },
  {
   "cell_type": "code",
   "execution_count": 6,
   "metadata": {},
   "outputs": [
    {
     "name": "stdout",
     "output_type": "stream",
     "text": [
      "2, 3, 5, 7 \n"
     ]
    }
   ],
   "source": [
    "# multiple input seperated by commas\n",
    "A = [int(x) for x in input().split(',')]"
   ]
  },
  {
   "cell_type": "code",
   "execution_count": 7,
   "metadata": {},
   "outputs": [
    {
     "data": {
      "text/plain": [
       "[2, 3, 5, 7]"
      ]
     },
     "execution_count": 7,
     "metadata": {},
     "output_type": "execute_result"
    }
   ],
   "source": [
    "A"
   ]
  },
  {
   "cell_type": "code",
   "execution_count": 8,
   "metadata": {},
   "outputs": [
    {
     "data": {
      "text/plain": [
       "[[0, 0], [0, 0], [0, 0]]"
      ]
     },
     "execution_count": 8,
     "metadata": {},
     "output_type": "execute_result"
    }
   ],
   "source": [
    "# Create a null matrix of size 3 x 2\n",
    "numRow = 3\n",
    "numCol= 2\n",
    "matrix = [[0]* numCol for _ in range(numRow)]\n",
    "matrix"
   ]
  },
  {
   "cell_type": "code",
   "execution_count": 9,
   "metadata": {},
   "outputs": [
    {
     "data": {
      "text/plain": [
       "[2, 3, 4]"
      ]
     },
     "execution_count": 9,
     "metadata": {},
     "output_type": "execute_result"
    }
   ],
   "source": [
    "# Find common numbers from two list using list comprehension\n",
    "L1 = [1, 2, 3, 4]\n",
    "L2 = [3, 5, 2, 6, 4]\n",
    "common_num = [x for x in L1 for y in L2 if x == y]\n",
    "common_num"
   ]
  }
 ],
 "metadata": {
  "kernelspec": {
   "display_name": "Python 3",
   "language": "python",
   "name": "python3"
  },
  "language_info": {
   "codemirror_mode": {
    "name": "ipython",
    "version": 3
   },
   "file_extension": ".py",
   "mimetype": "text/x-python",
   "name": "python",
   "nbconvert_exporter": "python",
   "pygments_lexer": "ipython3",
   "version": "3.6.6"
  }
 },
 "nbformat": 4,
 "nbformat_minor": 2
}