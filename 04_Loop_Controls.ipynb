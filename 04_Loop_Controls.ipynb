{
 "cells": [
  {
   "cell_type": "markdown",
   "metadata": {},
   "source": [
    "# break and continue Statements\n",
    "\n",
    "The **break** and **continue** keywords provide additional controls to a loop."
   ]
  },
  {
   "cell_type": "markdown",
   "metadata": {},
   "source": [
    "## The break Statement "
   ]
  },
  {
   "cell_type": "markdown",
   "metadata": {},
   "source": [
    "The **break** statement is used to break out of a loop statement i.e. stop the execution of a looping statement, even if the loop condition has not become False or the sequence of items has not been completely iterated over. "
   ]
  },
  {
   "cell_type": "markdown",
   "metadata": {},
   "source": [
    "Suppose you need to write a program to find the smallest divisor other than 1 for an integer\n",
    "$n$ (assume $n \\geq 2$). You can write a simple and intuitive code using the break statement as\n",
    "follows:"
   ]
  },
  {
   "cell_type": "code",
   "execution_count": 1,
   "metadata": {},
   "outputs": [
    {
     "name": "stdout",
     "output_type": "stream",
     "text": [
      "Enter the number >= 2:25\n",
      "The smallest divisor of 25 other than 1 is 5\n"
     ]
    }
   ],
   "source": [
    "n = int(input('Enter the number >= 2:'))\n",
    "divisor = 2\n",
    "while divisor <= n:\n",
    "    if n % divisor == 0: # the breaking condition\n",
    "        break\n",
    "    divisor += 1\n",
    "print(f'The smallest divisor of {n} other than 1 is {divisor}')\n"
   ]
  },
  {
   "cell_type": "markdown",
   "metadata": {},
   "source": [
    "You may rewrite the code without using **break** as follows:"
   ]
  },
  {
   "cell_type": "code",
   "execution_count": 2,
   "metadata": {},
   "outputs": [
    {
     "name": "stdout",
     "output_type": "stream",
     "text": [
      "Enter the number >= 2:25\n",
      "The smallest divisor of 25 other than 1 is 5\n"
     ]
    }
   ],
   "source": [
    "n = int(input('Enter the number >= 2:'))\n",
    "found = False\n",
    "divisor = 2\n",
    "while divisor <= n and not found:\n",
    "    if n % divisor == 0:\n",
    "        found = True  # the breaking condition\n",
    "    else:\n",
    "        divisor += 1\n",
    "print(f'The smallest divisor of {n} other than 1 is {divisor}')"
   ]
  },
  {
   "cell_type": "code",
   "execution_count": 3,
   "metadata": {},
   "outputs": [
    {
     "name": "stdout",
     "output_type": "stream",
     "text": [
      "rain\n",
      "sun\n",
      "moon\n"
     ]
    }
   ],
   "source": [
    "words = [\"rain\", \"sun\", \"moon\", \"exit\", \"weather\"]\n",
    " \n",
    "for word in words:\n",
    "        #checking for the breaking condition\n",
    "        if word == \"exit\" :\n",
    "                #if the condition is true, then break the loop\n",
    "                break;\n",
    " \n",
    "        #Otherwise, print the word\n",
    "        print (word)"
   ]
  },
  {
   "cell_type": "markdown",
   "metadata": {},
   "source": [
    "## The continue Statement \n",
    "\n",
    "The **continue** statement is used to tell Python to skip the rest of the statements in the current loop block and to continue to the next iteration of the loop."
   ]
  },
  {
   "cell_type": "code",
   "execution_count": 4,
   "metadata": {},
   "outputs": [
    {
     "name": "stdout",
     "output_type": "stream",
     "text": [
      "2 is skipped\n",
      "4 is skipped\n",
      "6 is skipped\n",
      "8 is skipped\n",
      "10 is skipped\n",
      "*************************\n",
      "The sum of odd numbers in [1, 10] is:  25\n",
      "The sum of [1, 3, 5, 7, 9] is:  25\n"
     ]
    }
   ],
   "source": [
    "# sum of odd numbers in [1, 10]\n",
    "total = 0\n",
    "for num in range(1, 11):\n",
    "    if num % 2 == 0:\n",
    "        print(f'{num} is skipped')\n",
    "        continue\n",
    "    total += num\n",
    "print('*************************')\n",
    "print('The sum of odd numbers in [1, 10] is: ', total)\n",
    "print('The sum of [1, 3, 5, 7, 9] is: ', sum([1, 3, 5, 7, 9]))"
   ]
  },
  {
   "cell_type": "code",
   "execution_count": 5,
   "metadata": {},
   "outputs": [
    {
     "ename": "TypeError",
     "evalue": "unsupported operand type(s) for +: 'int' and 'str'",
     "output_type": "error",
     "traceback": [
      "\u001b[1;31m---------------------------------------------------------------------------\u001b[0m",
      "\u001b[1;31mTypeError\u001b[0m                                 Traceback (most recent call last)",
      "\u001b[1;32m<ipython-input-5-91c423d6db30>\u001b[0m in \u001b[0;36m<module>\u001b[1;34m()\u001b[0m\n\u001b[0;32m      1\u001b[0m \u001b[1;31m# The following shows an error\u001b[0m\u001b[1;33m\u001b[0m\u001b[1;33m\u001b[0m\u001b[0m\n\u001b[0;32m      2\u001b[0m \u001b[0mL\u001b[0m \u001b[1;33m=\u001b[0m \u001b[1;33m[\u001b[0m\u001b[1;36m2\u001b[0m\u001b[1;33m,\u001b[0m \u001b[1;36m5\u001b[0m\u001b[1;33m,\u001b[0m \u001b[1;34m'ab'\u001b[0m\u001b[1;33m,\u001b[0m \u001b[1;36m7\u001b[0m\u001b[1;33m]\u001b[0m\u001b[1;33m\u001b[0m\u001b[0m\n\u001b[1;32m----> 3\u001b[1;33m \u001b[0msum\u001b[0m\u001b[1;33m(\u001b[0m\u001b[0mL\u001b[0m\u001b[1;33m)\u001b[0m\u001b[1;33m\u001b[0m\u001b[0m\n\u001b[0m",
      "\u001b[1;31mTypeError\u001b[0m: unsupported operand type(s) for +: 'int' and 'str'"
     ]
    }
   ],
   "source": [
    "# The following shows an error\n",
    "L = [2, 5, 'ab', 7]\n",
    "sum(L)"
   ]
  },
  {
   "cell_type": "code",
   "execution_count": 6,
   "metadata": {},
   "outputs": [
    {
     "name": "stdout",
     "output_type": "stream",
     "text": [
      "The sum is:  14\n"
     ]
    }
   ],
   "source": [
    "L = [2, 5, 'ab', 7]\n",
    "t = 0\n",
    "for v in L:\n",
    "    if isinstance(v, str):\n",
    "        continue\n",
    "    t += v\n",
    "print('The sum is: ',t)"
   ]
  },
  {
   "cell_type": "markdown",
   "metadata": {},
   "source": [
    "**Note: continue** breaks out of an iteration, while the **break** keyword breaks out of a loop."
   ]
  }
 ],
 "metadata": {
  "kernelspec": {
   "display_name": "Python 3",
   "language": "python",
   "name": "python3"
  },
  "language_info": {
   "codemirror_mode": {
    "name": "ipython",
    "version": 3
   },
   "file_extension": ".py",
   "mimetype": "text/x-python",
   "name": "python",
   "nbconvert_exporter": "python",
   "pygments_lexer": "ipython3",
   "version": "3.5.4"
  }
 },
 "nbformat": 4,
 "nbformat_minor": 2
}
