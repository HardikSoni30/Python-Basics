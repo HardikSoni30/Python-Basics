{
 "cells": [
  {
   "cell_type": "markdown",
   "metadata": {},
   "source": [
    "# Python if else – conditional logic"
   ]
  },
  {
   "cell_type": "markdown",
   "metadata": {},
   "source": [
    "Python has several types of selection statements: one-way **if** statements, two-way **if-else** statements, nested if statements, multi-way **if-elif-else** statements and conditional expressions. \n",
    "\n",
    "Let's us discusses one-by-one.."
   ]
  },
  {
   "cell_type": "markdown",
   "metadata": {},
   "source": [
    "## one-way if statement"
   ]
  },
  {
   "cell_type": "code",
   "execution_count": 1,
   "metadata": {},
   "outputs": [
    {
     "name": "stdout",
     "output_type": "stream",
     "text": [
      "Enter the number:5\n",
      "Hi Odd\n"
     ]
    }
   ],
   "source": [
    "# Simple Demo\n",
    "\n",
    "# Prompt the user to enter the number\n",
    "num = int(input('Enter the number:'))\n",
    "\n",
    "if num % 2 == 0:\n",
    "    print('Hi Even')\n",
    "\n",
    "if num % 2 == 1:\n",
    "    print('Hi Odd')"
   ]
  },
  {
   "cell_type": "code",
   "execution_count": 2,
   "metadata": {},
   "outputs": [
    {
     "name": "stdout",
     "output_type": "stream",
     "text": [
      "Enter the value of radius:2.45\n",
      "The area for the circle of radius 2.45 is 18.86\n"
     ]
    }
   ],
   "source": [
    "from math import pi\n",
    "# eval is used to convert string into numeric value\n",
    "radius = eval(input('Enter the value of radius:'))\n",
    "if radius >= 0:\n",
    "    area = radius**2 * pi\n",
    "    print(f'The area for the circle of radius {radius} is {area:0.2f}')"
   ]
  },
  {
   "cell_type": "markdown",
   "metadata": {},
   "source": [
    "## Two-Way if-else Statements\n",
    "\n",
    "A one-way if statement takes an action if the specified condition is <font color=blue>True</font>. If the condition is <font color=blue>False</font>, nothing is done. But what if you want to take one or more alternative actions when the\n",
    "condition is False, then you can use a two-way <font color=blue>if-else</font> statement."
   ]
  },
  {
   "cell_type": "code",
   "execution_count": 3,
   "metadata": {},
   "outputs": [
    {
     "name": "stdout",
     "output_type": "stream",
     "text": [
      "Enter the number:4\n",
      "Hi Even\n"
     ]
    }
   ],
   "source": [
    "# Simple Demo Continue\n",
    "\n",
    "# Prompt the user to enter the number\n",
    "num = int(input('Enter the number:'))\n",
    "\n",
    "if num % 2 == 0:\n",
    "    print('Hi Even')\n",
    "else:    \n",
    "    print('Hi Odd')"
   ]
  },
  {
   "cell_type": "code",
   "execution_count": 4,
   "metadata": {},
   "outputs": [
    {
     "name": "stdout",
     "output_type": "stream",
     "text": [
      "Enter the number:28\n",
      "can get driver's licence\n"
     ]
    }
   ],
   "source": [
    "# Prompt the user to enter an age\n",
    "# converting string into numeric value using eval() function\n",
    "age = eval(input('Enter the number:'))\n",
    "if age < 18:\n",
    "    print('cannot get driver\\'s licence')\n",
    "else:\n",
    "    print('can get driver\\'s licence')"
   ]
  },
  {
   "cell_type": "code",
   "execution_count": 5,
   "metadata": {},
   "outputs": [
    {
     "name": "stdout",
     "output_type": "stream",
     "text": [
      "Enter the value of radius:-2.5\n",
      "Negative input\n"
     ]
    }
   ],
   "source": [
    "from math import pi\n",
    "# eval is used to convert string into numeric value\n",
    "radius = eval(input('Enter the value of radius:'))\n",
    "if radius >= 0:\n",
    "    area = radius**2 * pi\n",
    "    print(f'The area for the circle of radius {radius} is {area:0.2f}')\n",
    "else:\n",
    "    print('Negative input')"
   ]
  },
  {
   "source": [
    "## The ternary operator\n",
    "\n",
    "The short version of `if-else` clause. "
   ],
   "cell_type": "markdown",
   "metadata": {}
  },
  {
   "cell_type": "code",
   "execution_count": 2,
   "metadata": {},
   "outputs": [
    {
     "output_type": "stream",
     "name": "stdout",
     "text": [
      "Hi odd\n"
     ]
    }
   ],
   "source": [
    "# Prompt the user to enter the number\n",
    "num = int(input('Enter the number:'))\n",
    "message = \"Hi even\" if num % 2 == 0 else \"Hi odd\"\n",
    "print(message)"
   ]
  },
  {
   "cell_type": "code",
   "execution_count": 3,
   "metadata": {},
   "outputs": [
    {
     "output_type": "stream",
     "name": "stdout",
     "text": [
      "can get driver's licence\n"
     ]
    }
   ],
   "source": [
    "# Prompt the user to enter an age\n",
    "age = eval(input('Enter the number:'))\n",
    "message = \"cannot get driver\\'s licence\" if age < 18 else \"can get driver\\'s licence\"\n",
    "print(message)"
   ]
  },
  {
   "cell_type": "markdown",
   "metadata": {},
   "source": [
    "## Nested if and Multi-Way if-elif-else"
   ]
  },
  {
   "cell_type": "code",
   "execution_count": 6,
   "metadata": {},
   "outputs": [
    {
     "name": "stdout",
     "output_type": "stream",
     "text": [
      "Enter the score:79.85\n",
      "Your grade is C\n"
     ]
    }
   ],
   "source": [
    "score = eval(input('Enter the score:'))\n",
    "if score >= 90:\n",
    "    grade = 'A'\n",
    "else:\n",
    "    if score >= 80:\n",
    "        grade = 'B'\n",
    "    else:\n",
    "        if score >= 70:\n",
    "            grade = 'C'\n",
    "        else:\n",
    "            if score >= 60:\n",
    "                grade = 'D'\n",
    "            else:\n",
    "                grade = 'F'\n",
    "print(f'Your grade is {grade}')"
   ]
  },
  {
   "cell_type": "code",
   "execution_count": 7,
   "metadata": {},
   "outputs": [
    {
     "name": "stdout",
     "output_type": "stream",
     "text": [
      "Enter the score:79.85\n",
      "Your grade is C\n"
     ]
    }
   ],
   "source": [
    "# Equivalent to previous but better code\n",
    "score = eval(input('Enter the score:'))\n",
    "if score >= 90:\n",
    "    grade = 'A'\n",
    "elif score >= 80:\n",
    "    grade = 'B'\n",
    "elif score >= 70:\n",
    "    grade = 'C'\n",
    "elif score >= 60:\n",
    "    grade = 'D'\n",
    "else:\n",
    "    grade = 'F'\n",
    "print(f'Your grade is {grade}')"
   ]
  },
  {
   "cell_type": "markdown",
   "metadata": {},
   "source": [
    "# Logical Operators\n",
    "\n",
    "The logical operators **not**, **and**, and **or** can be used to create a composite condition."
   ]
  },
  {
   "cell_type": "code",
   "execution_count": 8,
   "metadata": {},
   "outputs": [
    {
     "name": "stdout",
     "output_type": "stream",
     "text": [
      "Enter an integer: 12\n",
      "12 is divisible by 2 and 3\n"
     ]
    }
   ],
   "source": [
    "# Receive an input\n",
    "number = eval(input(\"Enter an integer: \"))\n",
    "\n",
    "# and\n",
    "if number % 2 == 0 and number % 3 == 0: \n",
    "    print(f'{number} is divisible by 2 and 3')"
   ]
  },
  {
   "cell_type": "code",
   "execution_count": 9,
   "metadata": {},
   "outputs": [
    {
     "name": "stdout",
     "output_type": "stream",
     "text": [
      "Enter an integer: 8\n",
      "8 is divisible by 2 or 3\n"
     ]
    }
   ],
   "source": [
    "# Receive an input\n",
    "number = eval(input(\"Enter an integer: \"))\n",
    "\n",
    "# or\n",
    "if number % 2 == 0 or number % 3 == 0: \n",
    "    print(f'{number} is divisible by 2 or 3')"
   ]
  },
  {
   "cell_type": "code",
   "execution_count": 10,
   "metadata": {},
   "outputs": [
    {
     "name": "stdout",
     "output_type": "stream",
     "text": [
      "Enter an integer: 9\n",
      "9 is divisible by 2 or 3, but not both\n"
     ]
    }
   ],
   "source": [
    "# Receive an input\n",
    "number = eval(input(\"Enter an integer: \"))\n",
    "\n",
    "if (number % 2 == 0 or number % 3 == 0) and not (number % 2 == 0 and number % 3 == 0):\n",
    "    print(f'{number} is divisible by 2 or 3, but not both')"
   ]
  }
 ],
 "metadata": {
  "kernelspec": {
   "name": "python379jvsc74a57bd004635d289a519a1410467dd0afb0db42f9184808881ca68b2eb5a687a20a5a94",
   "display_name": "Python 3.7.9 64-bit"
  },
  "language_info": {
   "codemirror_mode": {
    "name": "ipython",
    "version": 3
   },
   "file_extension": ".py",
   "mimetype": "text/x-python",
   "name": "python",
   "nbconvert_exporter": "python",
   "pygments_lexer": "ipython3",
   "version": "3.7.9"
  }
 },
 "nbformat": 4,
 "nbformat_minor": 2
}