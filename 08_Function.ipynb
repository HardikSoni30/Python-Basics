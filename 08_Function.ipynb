{
 "cells": [
  {
   "cell_type": "markdown",
   "metadata": {},
   "source": [
    "# Python Function\n",
    "\n",
    "**Functions** can be used to define reusable code and organize and simplify code. In other words, **function** is a collection of statements that you can execute wherever and whenever you want in the program. "
   ]
  },
  {
   "cell_type": "markdown",
   "metadata": {},
   "source": [
    "Python supports the following types of functions:\n",
    "\n",
    "+ User-defined functions\n",
    "+ Built-in functions\n",
    "+ Lambda forms"
   ]
  },
  {
   "cell_type": "markdown",
   "metadata": {},
   "source": [
    "## User-defined functions\n",
    "\n",
    "A typical Python function can be sketched as:\n",
    "\n",
    "```python\n",
    "def function_name(parameters):\n",
    "    \"\"\" docstring\"\"\"\n",
    "    statement(s)\n",
    "    return something\n",
    "```\n",
    "\n",
    "Any data structure can be returned, and None is returned in the absence of a return statement.\n",
    "\n",
    "The parameters are optional,and if there is more than one they are written as a sequence of comma-separated identifiers, or as a sequence of ***identifier=value*** pairs as we will discuss shortly."
   ]
  },
  {
   "cell_type": "code",
   "execution_count": 1,
   "metadata": {},
   "outputs": [
    {
     "name": "stdout",
     "output_type": "stream",
     "text": [
      "1 -> 1\n",
      "2 -> 4\n",
      "3 -> 9\n",
      "4 -> 16\n",
      "5 -> 25\n",
      "6 -> 36\n",
      "7 -> 49\n",
      "8 -> 64\n",
      "9 -> 81\n"
     ]
    }
   ],
   "source": [
    "# square the number\n",
    "def square(n):\n",
    "    return n**2\n",
    "\n",
    "for x in range(1, 10):\n",
    "    print(x, '->', square(x))"
   ]
  },
  {
   "cell_type": "code",
   "execution_count": 2,
   "metadata": {},
   "outputs": [
    {
     "name": "stdout",
     "output_type": "stream",
     "text": [
      "Grade: B\n"
     ]
    }
   ],
   "source": [
    "# Print grade for the score\n",
    "def printGrade(score): # function with required arguments\n",
    "    if score < 0 or score > 100:\n",
    "        print('Invalid score')\n",
    "        return # Same as return None\n",
    "    if score >= 90.0:\n",
    "        print('Grade: A')\n",
    "    elif score >= 80.0:\n",
    "        print('Grade: B')\n",
    "    elif score >= 70.0:\n",
    "        print('Grade: C')\n",
    "    elif score >= 60.0:\n",
    "        print('Grade: D')\n",
    "    else:\n",
    "        print('Grade: F')\n",
    "\n",
    "def test(): # function with no arguments and omitted return statement\n",
    "    printGrade(88.6)\n",
    "\n",
    "test()        "
   ]
  },
  {
   "cell_type": "markdown",
   "metadata": {},
   "source": [
    "## Multiple Return Values\n",
    "\n",
    "Python functions may return more than one value. When a function returns multiple values, separated by a comma in the return statement, a tuple is actually returned. We can demonstrate that fact by the following:"
   ]
  },
  {
   "cell_type": "code",
   "execution_count": 3,
   "metadata": {},
   "outputs": [],
   "source": [
    "def f(x):\n",
    "    return x, x**2, x**3"
   ]
  },
  {
   "cell_type": "code",
   "execution_count": 4,
   "metadata": {},
   "outputs": [
    {
     "data": {
      "text/plain": [
       "(2, 4, 8)"
      ]
     },
     "execution_count": 4,
     "metadata": {},
     "output_type": "execute_result"
    }
   ],
   "source": [
    "s = f(2)\n",
    "s"
   ]
  },
  {
   "cell_type": "code",
   "execution_count": 5,
   "metadata": {},
   "outputs": [
    {
     "data": {
      "text/plain": [
       "tuple"
      ]
     },
     "execution_count": 5,
     "metadata": {},
     "output_type": "execute_result"
    }
   ],
   "source": [
    "type(s)"
   ]
  },
  {
   "cell_type": "markdown",
   "metadata": {},
   "source": [
    "## A function with default arguments\n",
    "\n",
    "Providing default arguments allows the caller to omit some arguments. Following function returns the string it is given, or if it is longer than the specified length, it returns a shortened version with an indicator added:"
   ]
  },
  {
   "cell_type": "code",
   "execution_count": 6,
   "metadata": {},
   "outputs": [],
   "source": [
    "def shorten(text, length=25, indicator=\"%\"):\n",
    "    if len(text) > length:\n",
    "        text = text[:length - len(indicator)] + indicator\n",
    "    return text"
   ]
  },
  {
   "cell_type": "code",
   "execution_count": 7,
   "metadata": {},
   "outputs": [
    {
     "data": {
      "text/plain": [
       "'https://docs.python.org'"
      ]
     },
     "execution_count": 7,
     "metadata": {},
     "output_type": "execute_result"
    }
   ],
   "source": [
    "# Here are a few example calls:\n",
    "shorten('https://docs.python.org')"
   ]
  },
  {
   "cell_type": "code",
   "execution_count": 8,
   "metadata": {},
   "outputs": [
    {
     "data": {
      "text/plain": [
       "'https://doc%'"
      ]
     },
     "execution_count": 8,
     "metadata": {},
     "output_type": "execute_result"
    }
   ],
   "source": [
    "shorten(length=12, text='https://docs.python.org')"
   ]
  },
  {
   "cell_type": "code",
   "execution_count": 9,
   "metadata": {},
   "outputs": [
    {
     "data": {
      "text/plain": [
       "'https://doc&'"
      ]
     },
     "execution_count": 9,
     "metadata": {},
     "output_type": "execute_result"
    }
   ],
   "source": [
    "shorten('https://docs.python.org', indicator='&', length=12)"
   ]
  },
  {
   "cell_type": "code",
   "execution_count": 10,
   "metadata": {},
   "outputs": [
    {
     "data": {
      "text/plain": [
       "'https://doc&'"
      ]
     },
     "execution_count": 10,
     "metadata": {},
     "output_type": "execute_result"
    }
   ],
   "source": [
    "shorten('https://docs.python.org', 12, '&')"
   ]
  },
  {
   "cell_type": "markdown",
   "metadata": {},
   "source": [
    "**Note:** There are two kinds of arguments: ***positional arguments*** and ***keyword arguments***.\n",
    "\n",
    "In above shorten function, *text* is ordinary or positional argument while *length* and *indicator* are keyword arguments. \n",
    "\n",
    "- As both *length* and *indicator* are keyword arguments, either or both can be, omitted entirely, in that case the default is used. This is what happens in first call.\n",
    "- Observe in the second call,  a positional argument, text in this case, written as keyword argument form ***name=value***, so we can order them as we like.\n",
    "- The third call mixes both positional and keyword arguments. We used a positional first argument (positional arguments must always precede keyword arguments), and then two keyword arguments.\n",
    "- The fourth call simply uses positional arguments, i.e., the name part can be skipped, but then the sequence of the keyword arguments in the call must match the sequence in the function definition exactly."
   ]
  },
  {
   "cell_type": "markdown",
   "metadata": {},
   "source": [
    "## Functions as Arguments to Functions\n",
    "\n",
    "**Numerical Differentiation:**\n",
    "\n",
    "<center>\n",
    "\n",
    "${f}'\\left( x \\right)\\approx \\frac{f\\left( x+h \\right)-f\\left( x \\right)}{h}$\n",
    "\n",
    "</center>\n",
    "\n",
    "where *h* is a small number."
   ]
  },
  {
   "cell_type": "code",
   "execution_count": 11,
   "metadata": {},
   "outputs": [],
   "source": [
    "def diff(f, x, h=1E-6):\n",
    "    r = (f(x+h) - f(x)) / h\n",
    "    return r"
   ]
  },
  {
   "cell_type": "code",
   "execution_count": 12,
   "metadata": {},
   "outputs": [
    {
     "name": "stdout",
     "output_type": "stream",
     "text": [
      "g'(2) = 4.0000\n"
     ]
    }
   ],
   "source": [
    "def g(t):\n",
    "    return t**2\n",
    "\n",
    "t = 2\n",
    "dg = diff(g, t)\n",
    "print(f'g\\'({t}) = {dg:.4f}')"
   ]
  },
  {
   "cell_type": "markdown",
   "metadata": {},
   "source": [
    "## Arbitrary Argument Lists\n",
    "\n",
    "In the function below, the asterisk in front of the *vals* parameter means any other positional parameters."
   ]
  },
  {
   "cell_type": "code",
   "execution_count": 13,
   "metadata": {},
   "outputs": [],
   "source": [
    "def lessThan(cutoffVal, *vals) :\n",
    "    \"\"\" Return a list of values less than the cutoff.\"\"\"\n",
    "    lst = []\n",
    "    for val in vals :\n",
    "        if val < cutoffVal:\n",
    "            lst.append(val)\n",
    "    return lst"
   ]
  },
  {
   "cell_type": "code",
   "execution_count": 14,
   "metadata": {},
   "outputs": [
    {
     "name": "stdout",
     "output_type": "stream",
     "text": [
      "[-5, 12]\n"
     ]
    }
   ],
   "source": [
    "print(lessThan(20, -5, 27, 12, 30))"
   ]
  },
  {
   "cell_type": "markdown",
   "metadata": {},
   "source": [
    "## Unpacking Argument Lists (Variable Number of arguments)\n",
    "\n",
    "Consider the following simple function to calculate the sum of its arguments, each raised to the given power"
   ]
  },
  {
   "cell_type": "code",
   "execution_count": 15,
   "metadata": {},
   "outputs": [],
   "source": [
    "def sum_of_powers(*args, power=1):\n",
    "    result = 0\n",
    "    for arg in args:\n",
    "        result += arg ** power    \n",
    "    return result"
   ]
  },
  {
   "cell_type": "code",
   "execution_count": 16,
   "metadata": {},
   "outputs": [
    {
     "data": {
      "text/plain": [
       "12"
      ]
     },
     "execution_count": 16,
     "metadata": {},
     "output_type": "execute_result"
    }
   ],
   "source": [
    "sum_of_powers(3, 4, 5)"
   ]
  },
  {
   "cell_type": "code",
   "execution_count": 17,
   "metadata": {},
   "outputs": [
    {
     "data": {
      "text/plain": [
       "50"
      ]
     },
     "execution_count": 17,
     "metadata": {},
     "output_type": "execute_result"
    }
   ],
   "source": [
    "sum_of_powers(3, 4, 5, power=2)"
   ]
  },
  {
   "cell_type": "code",
   "execution_count": 18,
   "metadata": {},
   "outputs": [
    {
     "data": {
      "text/plain": [
       "50"
      ]
     },
     "execution_count": 18,
     "metadata": {},
     "output_type": "execute_result"
    }
   ],
   "source": [
    "# call with arguments unpacked from a list\n",
    "lst = [3, 4, 5]\n",
    "sum_of_powers(*lst, power=2)"
   ]
  },
  {
   "cell_type": "markdown",
   "metadata": {},
   "source": [
    "## Built-in functions\n",
    "\n",
    "Examples are:"
   ]
  },
  {
   "cell_type": "code",
   "execution_count": 19,
   "metadata": {},
   "outputs": [
    {
     "data": {
      "text/plain": [
       "4"
      ]
     },
     "execution_count": 19,
     "metadata": {},
     "output_type": "execute_result"
    }
   ],
   "source": [
    "round(3.8)"
   ]
  },
  {
   "cell_type": "code",
   "execution_count": 20,
   "metadata": {},
   "outputs": [
    {
     "data": {
      "text/plain": [
       "-3"
      ]
     },
     "execution_count": 20,
     "metadata": {},
     "output_type": "execute_result"
    }
   ],
   "source": [
    "round(-3.3)"
   ]
  },
  {
   "cell_type": "code",
   "execution_count": 21,
   "metadata": {},
   "outputs": [
    {
     "data": {
      "text/plain": [
       "3.14"
      ]
     },
     "execution_count": 21,
     "metadata": {},
     "output_type": "execute_result"
    }
   ],
   "source": [
    "round(3.141592653, 2)"
   ]
  },
  {
   "cell_type": "code",
   "execution_count": 22,
   "metadata": {},
   "outputs": [
    {
     "data": {
      "text/plain": [
       "16"
      ]
     },
     "execution_count": 22,
     "metadata": {},
     "output_type": "execute_result"
    }
   ],
   "source": [
    "pow(2, 4)"
   ]
  },
  {
   "cell_type": "code",
   "execution_count": 23,
   "metadata": {},
   "outputs": [
    {
     "data": {
      "text/plain": [
       "1"
      ]
     },
     "execution_count": 23,
     "metadata": {},
     "output_type": "execute_result"
    }
   ],
   "source": [
    "pow(2, 4, 3)"
   ]
  },
  {
   "cell_type": "markdown",
   "metadata": {},
   "source": [
    "The above expression first calculates $2^4 = 16$, and then evaluates $16 \\% 3$ which produces 1."
   ]
  },
  {
   "cell_type": "code",
   "execution_count": 24,
   "metadata": {},
   "outputs": [
    {
     "data": {
      "text/plain": [
       "(6, 2)"
      ]
     },
     "execution_count": 24,
     "metadata": {},
     "output_type": "execute_result"
    }
   ],
   "source": [
    "# Following function gives quotient and reminder...\n",
    "divmod(20, 3)"
   ]
  },
  {
   "cell_type": "code",
   "execution_count": 25,
   "metadata": {},
   "outputs": [
    {
     "name": "stdout",
     "output_type": "stream",
     "text": [
      "[7, 13, 3, 1, 17, 5, 19, 15, 11, 9]\n",
      "19\n",
      "1\n"
     ]
    }
   ],
   "source": [
    "from random import shuffle\n",
    "lst = list(range(1, 20, 2))\n",
    "shuffle(lst)\n",
    "print(lst)\n",
    "print(max(lst))\n",
    "print(min(lst))"
   ]
  },
  {
   "cell_type": "code",
   "execution_count": 26,
   "metadata": {},
   "outputs": [
    {
     "name": "stdout",
     "output_type": "stream",
     "text": [
      "two\n",
      "one\n"
     ]
    }
   ],
   "source": [
    "lst = ['one', 'two', 'three']\n",
    "print(max(lst))\n",
    "print(min(lst))"
   ]
  },
  {
   "cell_type": "markdown",
   "metadata": {},
   "source": [
    "Python compares strings \"lexicographically\" (like they would be sorted for a dictionary, but with all the lower-case letters greater than any upper-case one), not by the meaning of the words. Since \"o\" being less than \"t\", Python returned the lowest value of an alphanumeric sort. "
   ]
  },
  {
   "cell_type": "code",
   "execution_count": 27,
   "metadata": {},
   "outputs": [
    {
     "data": {
      "text/plain": [
       "'A B C D E F G H I J K L M N O P Q R S T U V W X Y Z '"
      ]
     },
     "execution_count": 27,
     "metadata": {},
     "output_type": "execute_result"
    }
   ],
   "source": [
    "# The chr() function returns a string of one character which has the ordinal value equal to the integer.\n",
    "alphabet = ''\n",
    "for letter in range(65, 91):    \n",
    "    alphabet += chr(letter)\n",
    "    alphabet += ' '\n",
    "alphabet"
   ]
  },
  {
   "cell_type": "code",
   "execution_count": 28,
   "metadata": {},
   "outputs": [
    {
     "name": "stdout",
     "output_type": "stream",
     "text": [
      "A -> 65\n",
      "B -> 66\n",
      "C -> 67\n",
      "D -> 68\n",
      "E -> 69\n",
      "F -> 70\n",
      "G -> 71\n",
      "H -> 72\n"
     ]
    }
   ],
   "source": [
    "# ord(c) is the inverse of the chr() function\n",
    "alphabet = 'ABCDEFGH'\n",
    "for letter in alphabet:\n",
    "    print(letter,'->', ord(letter))"
   ]
  },
  {
   "cell_type": "code",
   "execution_count": 29,
   "metadata": {},
   "outputs": [
    {
     "name": "stdout",
     "output_type": "stream",
     "text": [
      "True\n",
      "False\n"
     ]
    }
   ],
   "source": [
    "# any() function is used to check if at least one element of a sequence fulfills a given condition, i.e. returns “True”.\n",
    "L = [10, 20, 30]\n",
    "print(any([x > 15 for x in L]))\n",
    "print(any([x > 40 for x in L]))"
   ]
  },
  {
   "cell_type": "code",
   "execution_count": 30,
   "metadata": {},
   "outputs": [
    {
     "name": "stdout",
     "output_type": "stream",
     "text": [
      "False\n",
      "True\n"
     ]
    }
   ],
   "source": [
    "# all() function is used to check if all (!!!) elements of a sequence fulfill a given condition, i.e. return “True”.\n",
    "print(all([x > 15 for x in L]))\n",
    "print(all([x > 8 for x in L]))"
   ]
  },
  {
   "cell_type": "code",
   "execution_count": 31,
   "metadata": {},
   "outputs": [
    {
     "data": {
      "text/plain": [
       "True"
      ]
     },
     "execution_count": 31,
     "metadata": {},
     "output_type": "execute_result"
    }
   ],
   "source": [
    "any(c == 't' for c in 'python')"
   ]
  },
  {
   "cell_type": "code",
   "execution_count": 32,
   "metadata": {},
   "outputs": [
    {
     "data": {
      "text/plain": [
       "False"
      ]
     },
     "execution_count": 32,
     "metadata": {},
     "output_type": "execute_result"
    }
   ],
   "source": [
    "all(c == 't' for c in 'python')"
   ]
  },
  {
   "cell_type": "code",
   "execution_count": 33,
   "metadata": {},
   "outputs": [
    {
     "name": "stdout",
     "output_type": "stream",
     "text": [
      "False\n",
      "False\n",
      "True\n",
      "False\n",
      "False\n",
      "False\n"
     ]
    }
   ],
   "source": [
    "g = (c == 't' for c in 'python') # Create generator to check each character. \n",
    "for ans in g:\n",
    "    print(ans)"
   ]
  },
  {
   "cell_type": "markdown",
   "metadata": {},
   "source": [
    "# Use Cases of `any()` and `all()`\n",
    "\n",
    "These functions can be used as substitute of logical opertors `and` and `or`.\n",
    "\n",
    "## Example 1:\n",
    "Find the smallest positive integer which is divisible by all 2, 3, 5, and 7.\n",
    "\n",
    "The simple code snippet is:\n",
    "\n",
    "```python\n",
    "for num in range(10, 1000):\n",
    "    if num % 2 == 0 and num % 3 == 0 and num % 5 == 0 and num % 7 == 0: \n",
    "        print(num)\n",
    "        break\n",
    "else:\n",
    "    print(\"Number is not found\")        \n",
    "```\n",
    "\n",
    "Putting into different code using `any()` and `all()` as:  "
   ]
  },
  {
   "cell_type": "code",
   "execution_count": 34,
   "metadata": {},
   "outputs": [
    {
     "name": "stdout",
     "output_type": "stream",
     "text": [
      "Smallest positive integer is 210\n"
     ]
    }
   ],
   "source": [
    "for num in range(10, 1000):\n",
    "    if all(num % n == 0 for n in [2, 3, 5, 7]): \n",
    "        print(f'Smallest positive integer is {num}')\n",
    "        break\n",
    "else:\n",
    "    print(\"Number is not found\")"
   ]
  },
  {
   "cell_type": "code",
   "execution_count": 35,
   "metadata": {},
   "outputs": [
    {
     "name": "stdout",
     "output_type": "stream",
     "text": [
      "Smallest positive integer is 210\n"
     ]
    }
   ],
   "source": [
    "for num in range(10, 1000):\n",
    "    if all(not num % n  for n in [2, 3, 5, 7]): \n",
    "        print(f'Smallest positive integer is {num}')\n",
    "        break\n",
    "else:\n",
    "    print(\"Number is not found\")"
   ]
  },
  {
   "cell_type": "code",
   "execution_count": 36,
   "metadata": {},
   "outputs": [
    {
     "name": "stdout",
     "output_type": "stream",
     "text": [
      "Smallest positive integer is 210\n"
     ]
    }
   ],
   "source": [
    "for num in range(10, 1000):\n",
    "    if not any(num % n != 0 for n in [2, 3, 5, 7]): \n",
    "        print(f'Smallest positive integer is {num}')\n",
    "        break\n",
    "else:\n",
    "    print(\"Number is not found\")"
   ]
  },
  {
   "cell_type": "markdown",
   "metadata": {},
   "source": [
    "## Example 2:\n",
    "Check the entered positive integer is divisible by 2 or 3 but not both.\n",
    "\n",
    "The simple code snippet is:\n",
    "\n",
    "```python\n",
    "number = eval(input(\"Enter the number: \"))\n",
    "if (\n",
    "    (number % 2 == 0 or number % 3 == 0) and\n",
    "    not (number % 2 == 0 and number % 3 == 0)    \n",
    "):\n",
    "    print(f'{number} is divisible by 2 or 3, but not both')\n",
    "else:\n",
    "    print(f'{number} is either divisible by both or not')\n",
    "```\n",
    "\n",
    "Using `any()` and `all()` the above code can be altered as:"
   ]
  },
  {
   "cell_type": "code",
   "execution_count": 37,
   "metadata": {},
   "outputs": [
    {
     "name": "stdin",
     "output_type": "stream",
     "text": [
      "Enter the number:  16\n"
     ]
    },
    {
     "name": "stdout",
     "output_type": "stream",
     "text": [
      "16 is divisible by 2 or 3, but not both\n"
     ]
    }
   ],
   "source": [
    "number = eval(input(\"Enter the number: \"))\n",
    "if (\n",
    "    any(number % n == 0 for n in range(2, 4)) and\n",
    "    not all(number % n == 0 for n in range(2, 4))    \n",
    "):\n",
    "    print(f'{number} is divisible by 2 or 3, but not both')\n",
    "else:\n",
    "    print(f'{number} is either divisible by both or not')"
   ]
  },
  {
   "cell_type": "code",
   "execution_count": 38,
   "metadata": {},
   "outputs": [
    {
     "name": "stdin",
     "output_type": "stream",
     "text": [
      "Enter the number:  12\n"
     ]
    },
    {
     "name": "stdout",
     "output_type": "stream",
     "text": [
      "12 is either divisible by both or not\n"
     ]
    }
   ],
   "source": [
    "number = eval(input(\"Enter the number: \"))\n",
    "if (\n",
    "    not all(number % n for n in range(2, 4)) and\n",
    "    any(number % n for n in range(2, 4))    \n",
    "):\n",
    "    print(f'{number} is divisible by 2 or 3, but not both')\n",
    "else:\n",
    "    print(f'{number} is either divisible by both or not')"
   ]
  }
 ],
 "metadata": {
  "kernelspec": {
   "display_name": "Python 3",
   "language": "python",
   "name": "python3"
  },
  "language_info": {
   "codemirror_mode": {
    "name": "ipython",
    "version": 3
   },
   "file_extension": ".py",
   "mimetype": "text/x-python",
   "name": "python",
   "nbconvert_exporter": "python",
   "pygments_lexer": "ipython3",
   "version": "3.7.9"
  }
 },
 "nbformat": 4,
 "nbformat_minor": 4
}
