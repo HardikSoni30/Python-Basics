{
 "cells": [
  {
   "cell_type": "code",
   "execution_count": 1,
   "metadata": {},
   "outputs": [
    {
     "data": {
      "text/plain": [
       "datetime.date(2018, 8, 21)"
      ]
     },
     "execution_count": 1,
     "metadata": {},
     "output_type": "execute_result"
    }
   ],
   "source": [
    "from datetime import date\n",
    "date.today()"
   ]
  },
  {
   "cell_type": "code",
   "execution_count": 2,
   "metadata": {},
   "outputs": [],
   "source": [
    "author = \"Hardik N Soni. https://notebooks.azure.com/HNSoni/libraries/PyBa/tree/Exercises\""
   ]
  },
  {
   "cell_type": "markdown",
   "metadata": {},
   "source": [
    "*Computing Distances*\n",
    "\n",
    "Given two points $\t{{p}_{1}}=\\left( {{x}_{1}},{{y}_{1}} \\right)$ and ${{p}_{2}}=\\left( {{x}_{2}},{{y}_{2}} \\right)$, the formula for computing the distance is $\\sqrt{{{\\left( {{x}_{1}}-{{x}_{2}} \\right)}^{2}}+{{\\left( {{y}_{1}}-{{y}_{2}} \\right)}^{2}}}$. \n",
    "\n",
    "**Que:** Make a program that prompts the user to enter two points and computes the distance between them."
   ]
  },
  {
   "cell_type": "code",
   "execution_count": 3,
   "metadata": {},
   "outputs": [
    {
     "name": "stdout",
     "output_type": "stream",
     "text": [
      "Enter values for Point 1: 1.5, -3.4\n",
      "Enter values for Point 2: 4, 5\n",
      "The distance between the two points is 8.764131445842194\n"
     ]
    }
   ],
   "source": [
    "# Your Code goes here\n"
   ]
  },
  {
   "cell_type": "markdown",
   "metadata": {},
   "source": [
    " *Evaluate a Gaussian function* \n",
    "\n",
    "<center>\n",
    "$f\\left( x \\right)=\\dfrac{1}{\\sqrt{2\\pi }\\;s}\\exp \\left[ \\dfrac{-1}{2}{{\\left( \\dfrac{x-m}{s} \\right)}^{2}} \\right]$    \n",
    "</center>\n",
    "\n",
    "The parameters $m$ and $s$ are real numbers, where $s$ must be greater than zero.\n",
    "\n",
    "**Que:** Make a program for evaluating this function when $m = 0, s = 1$, and $x = 0 \\ldots 3$. Display the result as shown below. "
   ]
  },
  {
   "cell_type": "code",
   "execution_count": 4,
   "metadata": {},
   "outputs": [
    {
     "name": "stdout",
     "output_type": "stream",
     "text": [
      " x \t  ans\n",
      "----------------\n",
      "0.00     0.3989\n",
      "0.20     0.3910\n",
      "0.40     0.3683\n",
      "0.60     0.3332\n",
      "0.80     0.2897\n",
      "1.00     0.2420\n",
      "1.20     0.1942\n",
      "1.40     0.1497\n",
      "1.60     0.1109\n",
      "1.80     0.0790\n",
      "2.00     0.0540\n",
      "2.20     0.0355\n",
      "2.40     0.0224\n",
      "2.60     0.0136\n",
      "2.80     0.0079\n",
      "3.00     0.0044\n"
     ]
    }
   ],
   "source": [
    "# Your Code goes here"
   ]
  },
  {
   "cell_type": "markdown",
   "metadata": {},
   "source": [
    "*Sum the digits in an integer* \n",
    "\n",
    "**Que:** Write a program that reads an integer between 0 and 1000 and adds all the digits in the integer."
   ]
  },
  {
   "cell_type": "code",
   "execution_count": 5,
   "metadata": {},
   "outputs": [
    {
     "name": "stdout",
     "output_type": "stream",
     "text": [
      "The number is: 49 and the sum of its digits is: 13\n"
     ]
    }
   ],
   "source": [
    "# Your Code goes here"
   ]
  },
  {
   "cell_type": "markdown",
   "metadata": {},
   "source": [
    "*Compute the growth of money in a bank.*\n",
    "\n",
    "Let $r$ be a bank's interest rate in percent per year. An initial amount $A$ has then grown to \n",
    "\n",
    "<center> $A \\left(1 + \\dfrac{r}{100}\\right) ^ n$  </center> \n",
    "\n",
    "after $n$ years. \n",
    "\n",
    "**Que:** Make a program for computing how much money 1000 rupees have grown to after three years with 5% interest rate. "
   ]
  },
  {
   "cell_type": "code",
   "execution_count": 6,
   "metadata": {},
   "outputs": [
    {
     "name": "stdout",
     "output_type": "stream",
     "text": [
      "1000 rupees after 3 years is 1157.63\n"
     ]
    }
   ],
   "source": [
    "# Your Code goes here"
   ]
  },
  {
   "cell_type": "markdown",
   "metadata": {},
   "source": [
    "*Find the number of years and days*\n",
    "\n",
    "**Que:**  Write a program that prompts the user to enter the minutes (e.g., 1 billion), and displays the number of years and days for the minutes. For simplicity, assume a year has 365 days. Here is a sample run:"
   ]
  },
  {
   "cell_type": "code",
   "execution_count": 7,
   "metadata": {},
   "outputs": [
    {
     "name": "stdout",
     "output_type": "stream",
     "text": [
      "Enter the number of minutes:1000000000\n",
      "1000000000 minutes is approximately 1902 years and 214 days\n"
     ]
    }
   ],
   "source": [
    "# Your Code goes here"
   ]
  },
  {
   "cell_type": "markdown",
   "metadata": {},
   "source": [
    "**Que:** Write a program that examines three variables - x, y, and z - and prints the largest odd number among them. If none are odd, it should print a message to that effect."
   ]
  },
  {
   "cell_type": "code",
   "execution_count": 8,
   "metadata": {},
   "outputs": [],
   "source": [
    "# Your Code goes here"
   ]
  },
  {
   "cell_type": "code",
   "execution_count": 9,
   "metadata": {},
   "outputs": [
    {
     "name": "stdout",
     "output_type": "stream",
     "text": [
      "Largest odd is: 21\n"
     ]
    }
   ],
   "source": [
    "x, y, z = 15, 30, 21"
   ]
  },
  {
   "cell_type": "markdown",
   "metadata": {},
   "source": [
    "**Que:** Write a program that prints the sum of the numbers in the string."
   ]
  },
  {
   "cell_type": "code",
   "execution_count": 10,
   "metadata": {},
   "outputs": [],
   "source": [
    "astr = \"ab3c2E5k\""
   ]
  },
  {
   "cell_type": "code",
   "execution_count": 11,
   "metadata": {},
   "outputs": [
    {
     "name": "stdout",
     "output_type": "stream",
     "text": [
      "10\n"
     ]
    }
   ],
   "source": [
    "# Your Code goes here"
   ]
  }
 ],
 "metadata": {
  "kernelspec": {
   "display_name": "Python 3",
   "language": "python",
   "name": "python3"
  },
  "language_info": {
   "codemirror_mode": {
    "name": "ipython",
    "version": 3
   },
   "file_extension": ".py",
   "mimetype": "text/x-python",
   "name": "python",
   "nbconvert_exporter": "python",
   "pygments_lexer": "ipython3",
   "version": "3.5.4"
  }
 },
 "nbformat": 4,
 "nbformat_minor": 2
}
