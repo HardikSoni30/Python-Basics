{
 "cells": [
  {
   "cell_type": "code",
   "execution_count": 1,
   "metadata": {},
   "outputs": [
    {
     "data": {
      "text/plain": [
       "datetime.date(2020, 11, 6)"
      ]
     },
     "execution_count": 1,
     "metadata": {},
     "output_type": "execute_result"
    }
   ],
   "source": [
    "from datetime import date\n",
    "date.today()"
   ]
  },
  {
   "cell_type": "code",
   "execution_count": 2,
   "metadata": {},
   "outputs": [],
   "source": [
    "author = \"Hardik N Soni\""
   ]
  },
  {
   "cell_type": "markdown",
   "metadata": {},
   "source": [
    "**Que:** Write a program to sum the following series:\n",
    "\n",
    "\\begin{equation*}\n",
    "\\dfrac{1}{3} + \\dfrac{3}{5} + \\dfrac{5}{7} + \\dfrac{7}{9} + \\ldots + \\dfrac{95}{97} + \\dfrac{97}{99}\n",
    "\\end{equation*}"
   ]
  },
  {
   "cell_type": "code",
   "execution_count": 3,
   "metadata": {},
   "outputs": [
    {
     "name": "stdout",
     "output_type": "stream",
     "text": [
      "Sum is: 45.124450303050196\n"
     ]
    }
   ],
   "source": [
    "# Your code goes here\n",
    "num = 1\n",
    "den = 3\n",
    "total = 0.0\n",
    "while den < 100:\n",
    "    total += num/den\n",
    "    num, den = den, den+2\n",
    "print(\"Sum is:\", total)"
   ]
  },
  {
   "cell_type": "markdown",
   "metadata": {},
   "source": [
    "**Que:** Write a program that computes the following summation:\n",
    "\n",
    "\\begin{equation*}\n",
    "\\dfrac{1}{\\sqrt{2}} + \\dfrac{1}{\\sqrt{2} + \\sqrt{3}} + \\dfrac{1}{\\sqrt{3} + \\sqrt{4}} +  \\ldots +  \\dfrac{1}{\\sqrt{624} + \\sqrt{625}}\n",
    "\\end{equation*}\n"
   ]
  },
  {
   "cell_type": "code",
   "execution_count": 4,
   "metadata": {},
   "outputs": [
    {
     "name": "stdout",
     "output_type": "stream",
     "text": [
      "Sum is: 24.312885225207072\n"
     ]
    }
   ],
   "source": [
    "# Your code goes here\n",
    "total = float()\n",
    "for num in range(1, 626):\n",
    "    if num == 1:\n",
    "        total += 1 / ((num + 1) ** .5)\n",
    "    else:\n",
    "        total += 1 / (num ** .5 + (num + 1) ** .5)\n",
    "print(f\"Sum is: {total}\")"
   ]
  },
  {
   "cell_type": "markdown",
   "metadata": {},
   "source": [
    "**Que:** Write a program to generate arithmetic examples as shown in the output. "
   ]
  },
  {
   "cell_type": "code",
   "execution_count": 5,
   "metadata": {},
   "outputs": [
    {
     "name": "stdout",
     "output_type": "stream",
     "text": [
      " 9 *  9  +  7  =  88\n",
      " 98 *  9  +  6  =  888\n",
      " 987 *  9  +  5  =  8888\n",
      " 9876 *  9  +  4  =  88888\n",
      " 98765 *  9  +  3  =  888888\n",
      " 987654 *  9  +  2  =  8888888\n",
      " 9876543 *  9  +  1  =  88888888\n",
      " 98765432 *  9  +  0  =  888888888\n"
     ]
    }
   ],
   "source": [
    "# Your code goes here\n",
    "expr = \" \"\n",
    "for num in range(9, 1, -1):    \n",
    "    expr += repr(num) \n",
    "    expr1 = expr +  \" *  9  +  \" + repr(num - 2)  \n",
    "    rhs = eval(expr1)\n",
    "    expression = expr1 + \"  =  \" + repr(rhs)\n",
    "    print(expression)    "
   ]
  },
  {
   "cell_type": "markdown",
   "metadata": {},
   "source": [
    "**Que:** Write a program that displays, ten numbers per line, all the numbers from 100 to 200 (both inclusive) that are divisible by 5 or 6, but not both. The numbers are separated by exactly one space."
   ]
  },
  {
   "cell_type": "code",
   "execution_count": 6,
   "metadata": {},
   "outputs": [
    {
     "name": "stdout",
     "output_type": "stream",
     "text": [
      "100  102  105  108  110  114  115  125  126  130  \n",
      "132  135  138  140  144  145  155  156  160  162  \n",
      "165  168  170  174  175  185  186  190  192  195  \n",
      "198  200  "
     ]
    }
   ],
   "source": [
    "# Your code goes here\n",
    "cnt_num = 0\n",
    "for num in range(100, 201):\n",
    "    if (num % 5 == 0 or num % 6 == 0) and not (num % 5 == 0 and num % 6 == 0):\n",
    "        print(num, end='  ')\n",
    "        cnt_num += 1\n",
    "        if not cnt_num % 10:            \n",
    "            print()"
   ]
  },
  {
   "cell_type": "markdown",
   "metadata": {},
   "source": [
    "**Que:** Suppose you want to calculate someone's risk of heart disease using the following rules based on age and body mass index(BMI). \n",
    "\\begin{array}{cccc}\n",
    "   &  &   \\text{Age} \\\\\n",
    "   &  & <45 & \\geq 45 \\\\\n",
    "   & <22 & \\text{Low} & \\text{Medium} \\\\\n",
    "  \\text{BMI} & \\geq 22 & \\text{Medium} & \\text{High}\n",
    "\\end{array}\n"
   ]
  },
  {
   "cell_type": "code",
   "execution_count": 7,
   "metadata": {},
   "outputs": [
    {
     "name": "stdin",
     "output_type": "stream",
     "text": [
      "Enter your age in years:  40\n",
      "Enter the value of BMI:  26\n"
     ]
    },
    {
     "name": "stdout",
     "output_type": "stream",
     "text": [
      "Your risk of heart disease is:  Medium\n"
     ]
    }
   ],
   "source": [
    "# Your code goes here\n",
    "age = int(input(\"Enter your age in years: \"))\n",
    "bmi = float(input(\"Enter the value of BMI: \"))\n",
    "young = age < 45\n",
    "slim = bmi < 22.0\n",
    "if young and slim:\n",
    "    risk = 'Low'\n",
    "elif young and not slim:\n",
    "    risk = 'Medium'\n",
    "elif not young and slim:\n",
    "    risk = 'Medium'\n",
    "elif not young and not slim:\n",
    "    risk = 'High'\n",
    "print(\"Your risk of heart disease is: \", risk)"
   ]
  },
  {
   "cell_type": "markdown",
   "metadata": {},
   "source": [
    "**Que:** Write a Python program that prompts the user to enter the number (integer) until zero is entered. The number obtained should display the count of positive and negative numbers and display the average of entered numbers."
   ]
  },
  {
   "cell_type": "code",
   "execution_count": 8,
   "metadata": {},
   "outputs": [
    {
     "name": "stdin",
     "output_type": "stream",
     "text": [
      "Enter an integer (input ends if 0): 5\n",
      "Enter an integer (input ends if 0): -5\n",
      "Enter an integer (input ends if 0): 12\n",
      "Enter an integer (input ends if 0): 0\n"
     ]
    },
    {
     "name": "stdout",
     "output_type": "stream",
     "text": [
      "The number of positive value = 2 and negative value = 1\n",
      "The average of inserted data is: 4.0\n"
     ]
    }
   ],
   "source": [
    "# Your code goes here\n",
    "cnt_p = cnt_n = data_sum = 0\n",
    "while True:\n",
    "    data = int(input(\"Enter an integer (input ends if 0):\"))\n",
    "    if data > 0:\n",
    "        cnt_p += 1\n",
    "        data_sum += data\n",
    "    if data < 0:\n",
    "        cnt_n += 1\n",
    "        data_sum += data\n",
    "    elif data == 0:\n",
    "        break\n",
    "print(f\"The number of positive value = {cnt_p} and negative value = {cnt_n}\")\n",
    "avg = data_sum / (cnt_p + cnt_n)\n",
    "print('The average of inserted data is:', avg)"
   ]
  }
 ],
 "metadata": {
  "kernelspec": {
   "display_name": "Python 3",
   "language": "python",
   "name": "python3"
  },
  "language_info": {
   "codemirror_mode": {
    "name": "ipython",
    "version": 3
   },
   "file_extension": ".py",
   "mimetype": "text/x-python",
   "name": "python",
   "nbconvert_exporter": "python",
   "pygments_lexer": "ipython3",
   "version": "3.7.9"
  }
 },
 "nbformat": 4,
 "nbformat_minor": 4
}
