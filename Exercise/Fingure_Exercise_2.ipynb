{
 "cells": [
  {
   "cell_type": "code",
   "execution_count": 1,
   "metadata": {},
   "outputs": [
    {
     "data": {
      "text/plain": [
       "datetime.date(2018, 9, 7)"
      ]
     },
     "execution_count": 1,
     "metadata": {},
     "output_type": "execute_result"
    }
   ],
   "source": [
    "from datetime import date\n",
    "date.today()"
   ]
  },
  {
   "cell_type": "code",
   "execution_count": 2,
   "metadata": {},
   "outputs": [],
   "source": [
    "author = \"Hardik N Soni. https://notebooks.azure.com/HNSoni/libraries/PyBa/tree/Exercises\""
   ]
  },
  {
   "cell_type": "markdown",
   "metadata": {},
   "source": [
    "**Que:** Write a program to sum the following series:\n",
    "<center>\n",
    "    $\\dfrac{1}{3} + \\dfrac{3}{5} + \\dfrac{5}{7} + \\dfrac{7}{9} + \\ldots + \\dfrac{95}{97} + \\dfrac{97}{99}$\n",
    "</center>"
   ]
  },
  {
   "cell_type": "code",
   "execution_count": 3,
   "metadata": {},
   "outputs": [
    {
     "name": "stdout",
     "output_type": "stream",
     "text": [
      "45.124450303050196\n"
     ]
    }
   ],
   "source": [
    "# Your code goes here\n"
   ]
  },
  {
   "cell_type": "markdown",
   "metadata": {},
   "source": [
    "**Que:** Write a program that computes the following summation:\n",
    "\n",
    "<center>\n",
    "    $\\dfrac{1}{\\sqrt{2}} + \\dfrac{1}{\\sqrt{2} + \\sqrt{3}} + \\dfrac{1}{\\sqrt{3} + \\sqrt{4}} +  \\ldots +  \\dfrac{1}{\\sqrt{624} + \\sqrt{625}}$\n",
    "</center>"
   ]
  },
  {
   "cell_type": "code",
   "execution_count": 4,
   "metadata": {},
   "outputs": [
    {
     "name": "stdout",
     "output_type": "stream",
     "text": [
      "24.312885225207072\n"
     ]
    }
   ],
   "source": [
    "# Your code goes here\n"
   ]
  },
  {
   "cell_type": "markdown",
   "metadata": {},
   "source": [
    "**Que:** **Que:** You can approximate $\\pi$ by using the following series: \n",
    "<center>\n",
    "    $ \\pi =4\\left( 1-\\dfrac{1}{3}+\\dfrac{1}{5}-\\dfrac{1}{7}+\\cdots +\\dfrac{{{\\left( -1 \\right)}^{k}}}{2k-1} \\right)$\n",
    "</center>\n",
    "Write a program that displays $\\pi$ the value for $ k = 100, 1000, 10000, 20000, 50000$.  Also, compare with exact value and compute error. Display results as shown in the output. "
   ]
  },
  {
   "cell_type": "code",
   "execution_count": 5,
   "metadata": {},
   "outputs": [
    {
     "name": "stdout",
     "output_type": "stream",
     "text": [
      "True value of pi: 3.141592653589793\n",
      "*************************************\n",
      "  k      Apprx. Value     Error  \n",
      "*************************************\n",
      "100    \t 3.1315929036 \t 0.0099997500\n",
      "1000   \t 3.1405926538 \t 0.0009999997\n",
      "10000  \t 3.1414926536 \t 0.0001000000\n",
      "20000  \t 3.1415426536 \t 0.0000500000\n",
      "50000  \t 3.1415726536 \t 0.0000200000\n"
     ]
    }
   ],
   "source": [
    "from math import pi\n",
    "# Your code goes here...\n"
   ]
  },
  {
   "cell_type": "markdown",
   "metadata": {},
   "source": [
    "**Que:** Write a program to generate arithmetic examples as shown in the output *6 -- 9*. "
   ]
  },
  {
   "cell_type": "code",
   "execution_count": 6,
   "metadata": {},
   "outputs": [
    {
     "name": "stdout",
     "output_type": "stream",
     "text": [
      " 1 *  8  +  1  =  9\n",
      " 12 *  8  +  2  =  98\n",
      " 123 *  8  +  3  =  987\n",
      " 1234 *  8  +  4  =  9876\n",
      " 12345 *  8  +  5  =  98765\n",
      " 123456 *  8  +  6  =  987654\n",
      " 1234567 *  8  +  7  =  9876543\n",
      " 12345678 *  8  +  8  =  98765432\n",
      " 123456789 *  8  +  9  =  987654321\n"
     ]
    }
   ],
   "source": [
    "# arithmetic example 1: Your code goes here\n"
   ]
  },
  {
   "cell_type": "code",
   "execution_count": 7,
   "metadata": {},
   "outputs": [
    {
     "name": "stdout",
     "output_type": "stream",
     "text": [
      " 1 *  9  +  2  =  11\n",
      " 12 *  9  +  3  =  111\n",
      " 123 *  9  +  4  =  1111\n",
      " 1234 *  9  +  5  =  11111\n",
      " 12345 *  9  +  6  =  111111\n",
      " 123456 *  9  +  7  =  1111111\n",
      " 1234567 *  9  +  8  =  11111111\n",
      " 12345678 *  9  +  9  =  111111111\n",
      " 123456789 *  9  +  10  =  1111111111\n"
     ]
    }
   ],
   "source": [
    "# arithmetic example 2: Your code goes here\n"
   ]
  },
  {
   "cell_type": "code",
   "execution_count": 8,
   "metadata": {},
   "outputs": [
    {
     "name": "stdout",
     "output_type": "stream",
     "text": [
      " 9 *  9  +  7  =  88\n",
      " 98 *  9  +  6  =  888\n",
      " 987 *  9  +  5  =  8888\n",
      " 9876 *  9  +  4  =  88888\n",
      " 98765 *  9  +  3  =  888888\n",
      " 987654 *  9  +  2  =  8888888\n",
      " 9876543 *  9  +  1  =  88888888\n",
      " 98765432 *  9  +  0  =  888888888\n"
     ]
    }
   ],
   "source": [
    "# arithmetic example 3: Your code goes here\n"
   ]
  },
  {
   "cell_type": "code",
   "execution_count": 9,
   "metadata": {},
   "outputs": [
    {
     "name": "stdout",
     "output_type": "stream",
     "text": [
      "1 * 1  =  1\n",
      "11 * 11  =  121\n",
      "111 * 111  =  12321\n",
      "1111 * 1111  =  1234321\n",
      "11111 * 11111  =  123454321\n",
      "111111 * 111111  =  12345654321\n",
      "1111111 * 1111111  =  1234567654321\n",
      "11111111 * 11111111  =  123456787654321\n",
      "111111111 * 111111111  =  12345678987654321\n"
     ]
    }
   ],
   "source": [
    "# arithmetic example 4: Your code goes here\n"
   ]
  },
  {
   "cell_type": "markdown",
   "metadata": {},
   "source": [
    "**Que:** Sum of consecutive integers:\n",
    "\n",
    " 1. Write a program that prompts for an integer -- let's call it N -- and then finds the sum of N consecutive integers starting at 1. That is, if $N = 5$, you will find the sum $1 + 2 + 3 + 4 + 5 = 15$.\n",
    " \n",
    " 2. Modify your program such that it display results as shown in output.\n",
    " \n",
    " 3. Modify your program again to only print sums if the sum is divisible by the number of operands. For example, with the sum $1 + 2 + 3 + 4 + 5 = 15$, there are five operands and the sum, $15$, is divisble by $5$, so that sum will be printed. (Do you notice a pattern?)"
   ]
  },
  {
   "cell_type": "code",
   "execution_count": 10,
   "metadata": {},
   "outputs": [
    {
     "name": "stdout",
     "output_type": "stream",
     "text": [
      "Enter the number (>1) to find sum of consecutive integers: 5\n",
      "15\n"
     ]
    }
   ],
   "source": [
    "# 1. Your code goes here\n"
   ]
  },
  {
   "cell_type": "code",
   "execution_count": 11,
   "metadata": {},
   "outputs": [
    {
     "name": "stdout",
     "output_type": "stream",
     "text": [
      "Enter the number (>1) to find sum of consecutive integers: 5\n",
      "Sum of consecutive numbers till 1 is 1\n",
      "Sum of consecutive numbers till 2 is 3\n",
      "Sum of consecutive numbers till 3 is 6\n",
      "Sum of consecutive numbers till 4 is 10\n",
      "Sum of consecutive numbers till 5 is 15\n"
     ]
    }
   ],
   "source": [
    "# 2. Your code goes here\n"
   ]
  },
  {
   "cell_type": "code",
   "execution_count": 12,
   "metadata": {},
   "outputs": [
    {
     "name": "stdout",
     "output_type": "stream",
     "text": [
      "Enter the number (>1) to find sum of consecutive integers: 10\n",
      "number of operands: 1 and Sum: 1\n",
      "number of operands: 3 and Sum: 6\n",
      "number of operands: 5 and Sum: 15\n",
      "number of operands: 7 and Sum: 28\n",
      "number of operands: 9 and Sum: 45\n"
     ]
    }
   ],
   "source": [
    "# 3. Your code goes here\n"
   ]
  },
  {
   "cell_type": "markdown",
   "metadata": {},
   "source": [
    "**Que:** Write a program that displays, ten numbers per line, all the numbers from 100 to 200 (both inclusive) that are divisible by 5 or 6, but not both. The numbers are separated by exactly one space."
   ]
  },
  {
   "cell_type": "code",
   "execution_count": 13,
   "metadata": {},
   "outputs": [
    {
     "name": "stdout",
     "output_type": "stream",
     "text": [
      "100  102  105  108  110  114  115  125  126  130  \n",
      "132  135  138  140  144  145  155  156  160  162  \n",
      "165  168  170  174  175  185  186  190  192  195  \n",
      "198  200  "
     ]
    }
   ],
   "source": [
    "# Your code goes here\n"
   ]
  },
  {
   "cell_type": "markdown",
   "metadata": {},
   "source": [
    "**Que:** Suppose you want to calculate someone's risk of heart disease using the following rules based on age and body mass index(BMI). \n",
    "\\begin{array}{cccc}\n",
    "   &  &   \\text{Age} \\\\\n",
    "   &  & <45 & \\geq 45 \\\\\n",
    "   & <22 & \\text{Low} & \\text{Medium} \\\\\n",
    "  \\text{BMI} & \\geq 22 & \\text{Medium} & \\text{High}\n",
    "\\end{array}\n"
   ]
  },
  {
   "cell_type": "code",
   "execution_count": 14,
   "metadata": {},
   "outputs": [
    {
     "name": "stdout",
     "output_type": "stream",
     "text": [
      "Enter your age in years: 37\n",
      "Enter the value of BMI: 26\n",
      "Your risk of heart disease is:  Medium\n"
     ]
    }
   ],
   "source": [
    "# Your code goes here\n"
   ]
  },
  {
   "cell_type": "markdown",
   "metadata": {},
   "source": [
    "A **Pythagorean** triple consists of three positive integers $a$, $b$, and $c$, such that $a^2 + b^2 = c^2$. Visit https://en.wikipedia.org/wiki/Pythagorean_triple to read more about it.\n",
    "\n",
    "**Que:** Compose a program that generate Pythagorean triplet between given range of numbers (both inclusive). Display results as shown in output."
   ]
  },
  {
   "cell_type": "code",
   "execution_count": 16,
   "metadata": {},
   "outputs": [
    {
     "name": "stdout",
     "output_type": "stream",
     "text": [
      "Enter the lower number for the range: 1\n",
      "Enter the upper number for the range: 100\n",
      "1: (3, 4, 5)      \t2: (5, 12, 13)    \t3: (6, 8, 10)     \t4: (7, 24, 25)    \t\n",
      "5: (8, 15, 17)    \t6: (9, 12, 15)    \t7: (9, 40, 41)    \t8: (10, 24, 26)   \t\n",
      "9: (11, 60, 61)   \t10: (12, 16, 20)   \t11: (12, 35, 37)   \t12: (13, 84, 85)   \t\n",
      "13: (14, 48, 50)   \t14: (15, 20, 25)   \t15: (15, 36, 39)   \t16: (16, 30, 34)   \t\n",
      "17: (16, 63, 65)   \t18: (18, 24, 30)   \t19: (18, 80, 82)   \t20: (20, 21, 29)   \t\n",
      "21: (20, 48, 52)   \t22: (20, 99, 101)  \t23: (21, 28, 35)   \t24: (21, 72, 75)   \t\n",
      "25: (24, 32, 40)   \t26: (24, 45, 51)   \t27: (24, 70, 74)   \t28: (25, 60, 65)   \t\n",
      "29: (27, 36, 45)   \t30: (28, 45, 53)   \t31: (28, 96, 100)  \t32: (30, 40, 50)   \t\n",
      "33: (30, 72, 78)   \t34: (32, 60, 68)   \t35: (33, 44, 55)   \t36: (33, 56, 65)   \t\n",
      "37: (35, 84, 91)   \t38: (36, 48, 60)   \t39: (36, 77, 85)   \t40: (39, 52, 65)   \t\n",
      "41: (39, 80, 89)   \t42: (40, 42, 58)   \t43: (40, 75, 85)   \t44: (40, 96, 104)  \t\n",
      "45: (42, 56, 70)   \t46: (45, 60, 75)   \t47: (48, 55, 73)   \t48: (48, 64, 80)   \t\n",
      "49: (48, 90, 102)  \t50: (51, 68, 85)   \t51: (54, 72, 90)   \t52: (56, 90, 106)  \t\n",
      "53: (57, 76, 95)   \t54: (60, 63, 87)   \t55: (60, 80, 100)  \t56: (60, 91, 109)  \t\n",
      "57: (63, 84, 105)  \t58: (65, 72, 97)   \t59: (66, 88, 110)  \t60: (69, 92, 115)  \t\n",
      "61: (72, 96, 120)  \t62: (75, 100, 125) \t63: (80, 84, 116)  \t"
     ]
    }
   ],
   "source": [
    "# Your code goes here\n"
   ]
  }
 ],
 "metadata": {
  "kernelspec": {
   "display_name": "Python 3",
   "language": "python",
   "name": "python3"
  },
  "language_info": {
   "codemirror_mode": {
    "name": "ipython",
    "version": 3
   },
   "file_extension": ".py",
   "mimetype": "text/x-python",
   "name": "python",
   "nbconvert_exporter": "python",
   "pygments_lexer": "ipython3",
   "version": "3.5.4"
  }
 },
 "nbformat": 4,
 "nbformat_minor": 2
}
