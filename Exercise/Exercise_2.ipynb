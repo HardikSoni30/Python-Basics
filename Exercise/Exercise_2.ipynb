{
 "cells": [
  {
   "cell_type": "code",
   "execution_count": 1,
   "metadata": {},
   "outputs": [
    {
     "output_type": "execute_result",
     "data": {
      "text/plain": [
       "datetime.date(2020, 11, 29)"
      ]
     },
     "metadata": {},
     "execution_count": 1
    }
   ],
   "source": [
    "from datetime import date\n",
    "date.today()"
   ]
  },
  {
   "cell_type": "code",
   "execution_count": 2,
   "metadata": {},
   "outputs": [],
   "source": [
    "author = \"Hardik N Soni\""
   ]
  },
  {
   "cell_type": "markdown",
   "metadata": {},
   "source": [
    "**Que:** Write a Python program which will find all such numbers between 1000 and 3000 (both included) such that each digit of the number is even number. The numbers obtained should be printed, 10 per line, by exactly one space on a single line."
   ]
  },
  {
   "cell_type": "code",
   "execution_count": 3,
   "metadata": {},
   "outputs": [
    {
     "output_type": "stream",
     "name": "stdout",
     "text": [
      "2000 2002 2004 2006 2008 2020 2022 2024 2026 2028 \n2040 2042 2044 2046 2048 2060 2062 2064 2066 2068 \n2080 2082 2084 2086 2088 2200 2202 2204 2206 2208 \n2220 2222 2224 2226 2228 2240 2242 2244 2246 2248 \n2260 2262 2264 2266 2268 2280 2282 2284 2286 2288 \n2400 2402 2404 2406 2408 2420 2422 2424 2426 2428 \n2440 2442 2444 2446 2448 2460 2462 2464 2466 2468 \n2480 2482 2484 2486 2488 2600 2602 2604 2606 2608 \n2620 2622 2624 2626 2628 2640 2642 2644 2646 2648 \n2660 2662 2664 2666 2668 2680 2682 2684 2686 2688 \n2800 2802 2804 2806 2808 2820 2822 2824 2826 2828 \n2840 2842 2844 2846 2848 2860 2862 2864 2866 2868 \n2880 2882 2884 2886 2888 "
     ]
    }
   ],
   "source": [
    "# Your code goes here\n"
   ]
  },
  {
   "cell_type": "markdown",
   "metadata": {},
   "source": [
    "**Que:** Make a Python Program that prompts the sequence distinct positive integer numbers until zero is entered. From that sequence determine the value of the second largest element in this sequence. Ensure that the sequence has at least two elements.\n",
    "\n",
    "For example: if user enters `1 4 2 3 0` then the output will be `3`.\n"
   ]
  },
  {
   "cell_type": "code",
   "execution_count": 4,
   "metadata": {},
   "outputs": [
    {
     "output_type": "stream",
     "name": "stdout",
     "text": [
      "Second largest interger in sequence is: 3\n"
     ]
    }
   ],
   "source": [
    "# Your code goes here\n"
   ]
  },
  {
   "cell_type": "markdown",
   "metadata": {},
   "source": [
    "**Que:** The text is given in a single line. For each word of the text, make a program that counts the number of its occurrences before it.\n",
    "\n",
    "**For example:** if the input text is: `AB ab AB abc ab AB` then output will be: `0 0 1 0 1 2`: \n",
    "\n",
    "**Hint:** use Dictionary"
   ]
  },
  {
   "cell_type": "code",
   "execution_count": 5,
   "metadata": {},
   "outputs": [
    {
     "output_type": "stream",
     "name": "stdout",
     "text": [
      "Input text: 'AB ab AB abc ab AB'\nOutput: 0 0 1 0 1 2 "
     ]
    }
   ],
   "source": [
    "# Your code goes here\n"
   ]
  },
  {
   "source": [
    "**Que:** Write a program that displays, ten numbers per line, prime numbers from the specified range. The numbers are separated by exactly one space."
   ],
   "cell_type": "markdown",
   "metadata": {}
  },
  {
   "cell_type": "code",
   "execution_count": 6,
   "metadata": {},
   "outputs": [
    {
     "output_type": "stream",
     "name": "stdout",
     "text": [
      "Prime numers between 100 to 200 are:\n101 103 107 109 113 127 131 137 139 149 \n151 157 163 167 173 179 181 191 193 197 \n199 "
     ]
    }
   ],
   "source": [
    "# Your code goes here\n"
   ]
  },
  {
   "cell_type": "markdown",
   "metadata": {},
   "source": [
    "**Que:** Compose a function that will create a matrix for given number of rows and columns. Also make functions that will perform following operations on matrices:\n",
    "\n",
    "1. Addition and Substraction\n",
    "2. Multiplication\n",
    "3. Scalar Multiplication"
   ]
  },
  {
   "cell_type": "code",
   "execution_count": null,
   "metadata": {},
   "outputs": [],
   "source": [
    "# Your code goes here"
   ]
  }
 ],
 "metadata": {
  "kernelspec": {
   "display_name": "Python 3",
   "language": "python",
   "name": "python3"
  },
  "language_info": {
   "codemirror_mode": {
    "name": "ipython",
    "version": 3
   },
   "file_extension": ".py",
   "mimetype": "text/x-python",
   "name": "python",
   "nbconvert_exporter": "python",
   "pygments_lexer": "ipython3",
   "version": "3.7.9-final"
  }
 },
 "nbformat": 4,
 "nbformat_minor": 4
}