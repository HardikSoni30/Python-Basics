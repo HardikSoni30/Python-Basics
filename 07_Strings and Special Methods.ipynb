{
  "cells": [
    {
      "metadata": {},
      "cell_type": "markdown",
      "source": [
        "# The `str` Class\n",
        "\n",
        "Strings are the objects of the `str` class. Note that, A `str` object is immutable; that is, its content cannot be changed once the string is created. \n",
        "\n",
        "The `input()` function returns a string from the keyboard and the `print()` function displays a string on the monitor. "
      ]
    },
    {
      "metadata": {},
      "cell_type": "markdown",
      "source": [
        "## Creating Strings "
      ]
    },
    {
      "metadata": {
        "trusted": false
      },
      "cell_type": "code",
      "source": [
        "s1 = str() # Create an empty string object\n",
        "s2 = str('Python') # Create a string object for Python"
      ],
      "execution_count": 1,
      "outputs": []
    },
    {
      "metadata": {},
      "cell_type": "markdown",
      "source": [
        "Python provides a simple syntax for creating a string object by using a string value. For example,\n",
        "```python\n",
        "s1 = ' ' # Same as s1 = str()\n",
        "s2 = 'Python' # Same as s2 = str('Python')\n",
        "```"
      ]
    },
    {
      "metadata": {},
      "cell_type": "markdown",
      "source": [
        "**Strings with the same content are actually the same object.**"
      ]
    },
    {
      "metadata": {
        "trusted": false
      },
      "cell_type": "code",
      "source": [
        "s1 = 'Python'\n",
        "s2 = 'Python'\n",
        "print(id(s1))\n",
        "print(id(s2))"
      ],
      "execution_count": 2,
      "outputs": [
        {
          "name": "stdout",
          "output_type": "stream",
          "text": "2413228782456\n2413228782456\n"
        }
      ]
    },
    {
      "metadata": {},
      "cell_type": "markdown",
      "source": [
        "**All immutable objects with the same content are stored in one object. For example, `int` is an immutable class.**"
      ]
    },
    {
      "metadata": {
        "trusted": false
      },
      "cell_type": "code",
      "source": [
        "x = 5\n",
        "y = 5\n",
        "print(id(x))\n",
        "print(id(y))"
      ],
      "execution_count": 3,
      "outputs": [
        {
          "name": "stdout",
          "output_type": "stream",
          "text": "1526295712\n1526295712\n"
        }
      ]
    },
    {
      "metadata": {},
      "cell_type": "markdown",
      "source": [
        "## Functions for Strings \n",
        "\n",
        "**Note that the lowercase letters have a higher ASCII value than the uppercase letters**"
      ]
    },
    {
      "metadata": {
        "trusted": false
      },
      "cell_type": "code",
      "source": [
        "s = 'Python'\n",
        "print(len(s))\n",
        "print(min(s))\n",
        "print(max(s))"
      ],
      "execution_count": 4,
      "outputs": [
        {
          "name": "stdout",
          "output_type": "stream",
          "text": "6\nP\ny\n"
        }
      ]
    },
    {
      "metadata": {
        "trusted": false
      },
      "cell_type": "code",
      "source": [
        "s = 'Light ray'\n",
        "print(len(s))\n",
        "print(min(s))\n",
        "print(max(s))"
      ],
      "execution_count": 5,
      "outputs": [
        {
          "name": "stdout",
          "output_type": "stream",
          "text": "9\n \ny\n"
        }
      ]
    },
    {
      "metadata": {},
      "cell_type": "markdown",
      "source": [
        "## Index Operator `[ ]`\n",
        "\n",
        "A string is a sequence of characters. A character in the string can be accessed through the\n",
        "index operator using the syntax: \n",
        "<center>\n",
        "    `s[index]`\n",
        "</center>\n",
        "\n",
        "\\begin{array}{ccccccccc} \n",
        "s[0] & s[1] & s[2] & s[3] & s[4] & s[5] & s[6] & s[7] & s[8] \\\\ \\hline\n",
        "\\text{ L } & \\text{ i } & \\text{ g } & \\text{ h } & \\text{ t } & & \\text{ r } & \\text{ a } & \\text{ y }\\\\ \\hline\n",
        "s[-9] & s[-8] & s[-7] & s[-6] & s[-5] & s[-4] & s[-3] & s[-2] & s[-1] \n",
        "\\end{array}\n",
        "\n",
        "**We can use the slice operator—repeatedly if necessary—to access character in the string**\n",
        "\n",
        "\\begin{array}{cccccc} \n",
        "s[ 0 ] &== & s[-len(s) + 0 ] &== & s[-9]  &== & \\text{ L } \\\\\n",
        "s[ 6 ] &== & s[-len(s) + 6 ] &== & s[-3] &== & \\text{ r } \\\\\n",
        "\\end{array}"
      ]
    },
    {
      "metadata": {},
      "cell_type": "markdown",
      "source": [
        "Note that since strings are immutable, you cannot change their contents. For example, the following code is illegal:\n",
        "```python\n",
        "s[6] = 'R'\n",
        "```"
      ]
    },
    {
      "metadata": {},
      "cell_type": "markdown",
      "source": [
        "## The Slicing Operator `[start : end]`"
      ]
    },
    {
      "metadata": {
        "trusted": false
      },
      "cell_type": "code",
      "source": [
        "look = 'Look at me!'\n",
        "print(look[1 : 4])\n",
        "print(look[: 6])\n",
        "print(look[4:])\n",
        "print(look[1 : -1])"
      ],
      "execution_count": 6,
      "outputs": [
        {
          "name": "stdout",
          "output_type": "stream",
          "text": "ook\nLook a\n at me!\nook at me\n"
        }
      ]
    },
    {
      "metadata": {},
      "cell_type": "markdown",
      "source": [
        "## The Concatenation (`+`) and Repetition (`*`) Operators"
      ]
    },
    {
      "metadata": {
        "trusted": false
      },
      "cell_type": "code",
      "source": [
        "look = 'Look at me!'\n",
        "now = 'Now'\n",
        "s = look + ' ' + now\n",
        "s1 = look + ' ' + now*3\n",
        "print(s)\n",
        "print(s1)"
      ],
      "execution_count": 7,
      "outputs": [
        {
          "name": "stdout",
          "output_type": "stream",
          "text": "Look at me! Now\nLook at me! NowNowNow\n"
        }
      ]
    },
    {
      "metadata": {},
      "cell_type": "markdown",
      "source": [
        "## Comparing Strings\n",
        "\n",
        "Comparison operators `>, >=, ==, <=, <` and `!=` can be used to compare strings.\n",
        "\n",
        "Python compares strings by comparing their corresponding characters,\n",
        "and it does this by evaluating the characters' ASCII value (numeric code). \n",
        "For example, `a` is larger than `A` because the numeric code for `a` is larger than the numeric code for `A`."
      ]
    },
    {
      "metadata": {},
      "cell_type": "markdown",
      "source": [
        "## The `in` and `not in` Operators"
      ]
    },
    {
      "metadata": {
        "trusted": false
      },
      "cell_type": "code",
      "source": [
        "s = 'Light ray'\n",
        "print('ray' in s)\n",
        "print('Light' in s)\n",
        "print('light' not in s)"
      ],
      "execution_count": 8,
      "outputs": [
        {
          "name": "stdout",
          "output_type": "stream",
          "text": "True\nTrue\nTrue\n"
        }
      ]
    },
    {
      "metadata": {},
      "cell_type": "markdown",
      "source": [
        "## Iterating a String\n",
        "\n",
        "A string is *iterable*. This means that you can use a for loop to traverse all characters in\n",
        "the string sequentially. (Details are covered in `For Loop.ipynb`)"
      ]
    },
    {
      "metadata": {},
      "cell_type": "markdown",
      "source": [
        "# Methods\n",
        "\n",
        "## Testing Strings"
      ]
    },
    {
      "metadata": {
        "trusted": false
      },
      "cell_type": "code",
      "source": [
        "s = '4ever'\n",
        "s.isalpha()  # is the string made of alphabetic characters only ?"
      ],
      "execution_count": 9,
      "outputs": [
        {
          "data": {
            "text/plain": "False"
          },
          "execution_count": 9,
          "metadata": {},
          "output_type": "execute_result"
        }
      ]
    },
    {
      "metadata": {
        "trusted": false
      },
      "cell_type": "code",
      "source": [
        "s.isalnum()  # is the string made of alphabetic characters or digits only ?"
      ],
      "execution_count": 10,
      "outputs": [
        {
          "data": {
            "text/plain": "True"
          },
          "execution_count": 10,
          "metadata": {},
          "output_type": "execute_result"
        }
      ]
    },
    {
      "metadata": {
        "trusted": false
      },
      "cell_type": "code",
      "source": [
        "'2018'.isdigit()  # is the string made of digits only ?"
      ],
      "execution_count": 11,
      "outputs": [
        {
          "data": {
            "text/plain": "True"
          },
          "execution_count": 11,
          "metadata": {},
          "output_type": "execute_result"
        }
      ]
    },
    {
      "metadata": {
        "trusted": false
      },
      "cell_type": "code",
      "source": [
        "\"Python\".isupper()  # is it made of upper cases only ?"
      ],
      "execution_count": 12,
      "outputs": [
        {
          "data": {
            "text/plain": "False"
          },
          "execution_count": 12,
          "metadata": {},
          "output_type": "execute_result"
        }
      ]
    },
    {
      "metadata": {
        "trusted": false
      },
      "cell_type": "code",
      "source": [
        "\"python\".islower()  # or lower cases only ?"
      ],
      "execution_count": 13,
      "outputs": [
        {
          "data": {
            "text/plain": "True"
          },
          "execution_count": 13,
          "metadata": {},
          "output_type": "execute_result"
        }
      ]
    },
    {
      "metadata": {
        "trusted": false
      },
      "cell_type": "code",
      "source": [
        "\"Python\".istitle()  # does the string start with a capital letter ?"
      ],
      "execution_count": 14,
      "outputs": [
        {
          "data": {
            "text/plain": "True"
          },
          "execution_count": 14,
          "metadata": {},
          "output_type": "execute_result"
        }
      ]
    },
    {
      "metadata": {
        "trusted": false
      },
      "cell_type": "code",
      "source": [
        "s = 'Light ray'\n",
        "s.isspace() # is the string made of spaces only ?"
      ],
      "execution_count": 15,
      "outputs": [
        {
          "data": {
            "text/plain": "False"
          },
          "execution_count": 15,
          "metadata": {},
          "output_type": "execute_result"
        }
      ]
    },
    {
      "metadata": {},
      "cell_type": "markdown",
      "source": [
        "## Searching for Substrings"
      ]
    },
    {
      "metadata": {
        "trusted": false
      },
      "cell_type": "code",
      "source": [
        "file_name = 'String.ipynb'"
      ],
      "execution_count": 16,
      "outputs": []
    },
    {
      "metadata": {
        "trusted": false
      },
      "cell_type": "code",
      "source": [
        "file_name.endswith('ipynb')"
      ],
      "execution_count": 17,
      "outputs": [
        {
          "data": {
            "text/plain": "True"
          },
          "execution_count": 17,
          "metadata": {},
          "output_type": "execute_result"
        }
      ]
    },
    {
      "metadata": {
        "trusted": false
      },
      "cell_type": "code",
      "source": [
        "file_name.startswith('St')"
      ],
      "execution_count": 18,
      "outputs": [
        {
          "data": {
            "text/plain": "True"
          },
          "execution_count": 18,
          "metadata": {},
          "output_type": "execute_result"
        }
      ]
    },
    {
      "metadata": {
        "trusted": false
      },
      "cell_type": "code",
      "source": [
        "file_name.find('ipynb') # returns start index of 'ipynb' first occurence"
      ],
      "execution_count": 19,
      "outputs": [
        {
          "data": {
            "text/plain": "7"
          },
          "execution_count": 19,
          "metadata": {},
          "output_type": "execute_result"
        }
      ]
    },
    {
      "metadata": {
        "trusted": false
      },
      "cell_type": "code",
      "source": [
        "file_name.find('i', 1) # starting at index 1, returns start index of 'i' first occurence"
      ],
      "execution_count": 20,
      "outputs": [
        {
          "data": {
            "text/plain": "3"
          },
          "execution_count": 20,
          "metadata": {},
          "output_type": "execute_result"
        }
      ]
    },
    {
      "metadata": {
        "trusted": false
      },
      "cell_type": "code",
      "source": [
        "file_name.rfind('i') # returns start index of 'i' last occurence"
      ],
      "execution_count": 21,
      "outputs": [
        {
          "data": {
            "text/plain": "7"
          },
          "execution_count": 21,
          "metadata": {},
          "output_type": "execute_result"
        }
      ]
    },
    {
      "metadata": {
        "trusted": false
      },
      "cell_type": "code",
      "source": [
        "file_name.count('n') # count the occurence of a character"
      ],
      "execution_count": 22,
      "outputs": [
        {
          "data": {
            "text/plain": "2"
          },
          "execution_count": 22,
          "metadata": {},
          "output_type": "execute_result"
        }
      ]
    },
    {
      "metadata": {},
      "cell_type": "markdown",
      "source": [
        "## Converting Strings"
      ]
    },
    {
      "metadata": {
        "trusted": false
      },
      "cell_type": "code",
      "source": [
        "s = \"welcome to python\"\n",
        "s.capitalize() # only the first character capitalized"
      ],
      "execution_count": 23,
      "outputs": [
        {
          "data": {
            "text/plain": "'Welcome to python'"
          },
          "execution_count": 23,
          "metadata": {},
          "output_type": "execute_result"
        }
      ]
    },
    {
      "metadata": {
        "trusted": false
      },
      "cell_type": "code",
      "source": [
        "s.title() # first letter capitalized in each word"
      ],
      "execution_count": 24,
      "outputs": [
        {
          "data": {
            "text/plain": "'Welcome To Python'"
          },
          "execution_count": 24,
          "metadata": {},
          "output_type": "execute_result"
        }
      ]
    },
    {
      "metadata": {
        "trusted": false
      },
      "cell_type": "code",
      "source": [
        "s = \"New Gandhinagar\"\n",
        "s.lower() # all letters converted to lowercase"
      ],
      "execution_count": 25,
      "outputs": [
        {
          "data": {
            "text/plain": "'new gandhinagar'"
          },
          "execution_count": 25,
          "metadata": {},
          "output_type": "execute_result"
        }
      ]
    },
    {
      "metadata": {
        "trusted": false
      },
      "cell_type": "code",
      "source": [
        "s.upper()"
      ],
      "execution_count": 26,
      "outputs": [
        {
          "data": {
            "text/plain": "'NEW GANDHINAGAR'"
          },
          "execution_count": 26,
          "metadata": {},
          "output_type": "execute_result"
        }
      ]
    },
    {
      "metadata": {
        "trusted": false
      },
      "cell_type": "code",
      "source": [
        "s.swapcase() \n",
        "# Returns a copy of this string in which lowercase letters are converted to\n",
        "# uppercase and uppercase to lowercase"
      ],
      "execution_count": 27,
      "outputs": [
        {
          "data": {
            "text/plain": "'nEW gANDHINAGAR'"
          },
          "execution_count": 27,
          "metadata": {},
          "output_type": "execute_result"
        }
      ]
    },
    {
      "metadata": {
        "trusted": false
      },
      "cell_type": "code",
      "source": [
        "s1 = s.replace(\"Gandhinagar\", \"Ahmedabad\")\n",
        "print(s1)\n",
        "print(s)"
      ],
      "execution_count": 28,
      "outputs": [
        {
          "name": "stdout",
          "output_type": "stream",
          "text": "New Ahmedabad\nNew Gandhinagar\n"
        }
      ]
    },
    {
      "metadata": {},
      "cell_type": "markdown",
      "source": [
        "## Building or decomposing string"
      ]
    },
    {
      "metadata": {
        "trusted": false
      },
      "cell_type": "code",
      "source": [
        "message = ' '.join(['Python' ,'programming', 'is', 'a', 'fun'])\n",
        "message"
      ],
      "execution_count": 29,
      "outputs": [
        {
          "data": {
            "text/plain": "'Python programming is a fun'"
          },
          "execution_count": 29,
          "metadata": {},
          "output_type": "execute_result"
        }
      ]
    },
    {
      "metadata": {
        "trusted": false
      },
      "cell_type": "code",
      "source": [
        "message.split(' ')"
      ],
      "execution_count": 30,
      "outputs": [
        {
          "data": {
            "text/plain": "['Python', 'programming', 'is', 'a', 'fun']"
          },
          "execution_count": 30,
          "metadata": {},
          "output_type": "execute_result"
        }
      ]
    },
    {
      "metadata": {},
      "cell_type": "markdown",
      "source": [
        "## Formatting Strings "
      ]
    },
    {
      "metadata": {
        "trusted": false
      },
      "cell_type": "code",
      "source": [
        "s = \"Programming is fun\"\n",
        "s.center(30) # center the string in a string of length 30"
      ],
      "execution_count": 31,
      "outputs": [
        {
          "data": {
            "text/plain": "'      Programming is fun      '"
          },
          "execution_count": 31,
          "metadata": {},
          "output_type": "execute_result"
        }
      ]
    },
    {
      "metadata": {
        "trusted": false
      },
      "cell_type": "code",
      "source": [
        "s.ljust(30) # justify the string to the left (width of 30)"
      ],
      "execution_count": 32,
      "outputs": [
        {
          "data": {
            "text/plain": "'Programming is fun            '"
          },
          "execution_count": 32,
          "metadata": {},
          "output_type": "execute_result"
        }
      ]
    },
    {
      "metadata": {
        "trusted": false
      },
      "cell_type": "code",
      "source": [
        "s.rjust(30, '-') # justify the string to the right (width of 30)"
      ],
      "execution_count": 33,
      "outputs": [
        {
          "data": {
            "text/plain": "'------------Programming is fun'"
          },
          "execution_count": 33,
          "metadata": {},
          "output_type": "execute_result"
        }
      ]
    },
    {
      "source": [
        "For complete list of methods refer\n",
        "\n",
        "https://www.w3schools.com/python/python_ref_string.asp"
      ],
      "cell_type": "markdown",
      "metadata": {}
    }
  ],
  "metadata": {
    "kernelspec": {
      "name": "python3",
      "display_name": "Python 3",
      "language": "python"
    },
    "language_info": {
      "mimetype": "text/x-python",
      "nbconvert_exporter": "python",
      "name": "python",
      "pygments_lexer": "ipython3",
      "version": "3.5.4",
      "file_extension": ".py",
      "codemirror_mode": {
        "version": 3,
        "name": "ipython"
      }
    }
  },
  "nbformat": 4,
  "nbformat_minor": 2
}