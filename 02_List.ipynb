{
 "cells": [
  {
   "cell_type": "markdown",
   "metadata": {},
   "source": [
    "# Lists\n",
    "\n",
    "List is a versatile datatype available in Python. **A list is a changeable, ordered sequence of zero or more object references.** In general, a list may contain a sequence of arbitrary objects in a given order. \n",
    "\n",
    "The list data type can be called as a function, \n",
    "- `list()` with no arguments: it returns an empty list\n",
    "- `list(list)` with a list argument: it returns a shallow copy of the argument\n",
    "- `list(argument)` with any other argument: it attempts to convert the given object to a list.\n",
    "- It does not accept more than one argument."
   ]
  },
  {
   "cell_type": "code",
   "execution_count": 1,
   "metadata": {},
   "outputs": [
    {
     "data": {
      "text/plain": [
       "[1, 'a', 2.5]"
      ]
     },
     "execution_count": 1,
     "metadata": {},
     "output_type": "execute_result"
    }
   ],
   "source": [
    "a = 1, 'a', 2.5\n",
    "L = list(a)\n",
    "L"
   ]
  },
  {
   "cell_type": "code",
   "execution_count": 2,
   "metadata": {},
   "outputs": [
    {
     "data": {
      "text/plain": [
       "[1, 'a', 2.5]"
      ]
     },
     "execution_count": 2,
     "metadata": {},
     "output_type": "execute_result"
    }
   ],
   "source": [
    "L1 = list(L)\n",
    "L1"
   ]
  },
  {
   "cell_type": "code",
   "execution_count": 3,
   "metadata": {},
   "outputs": [],
   "source": [
    "L1[1] = 5"
   ]
  },
  {
   "cell_type": "code",
   "execution_count": 4,
   "metadata": {},
   "outputs": [
    {
     "name": "stdout",
     "output_type": "stream",
     "text": [
      "List L =  [1, 'a', 2.5]\n",
      "List L1 =  [1, 5, 2.5]\n"
     ]
    }
   ],
   "source": [
    "print('List L = ', L)\n",
    "print('List L1 = ', L1)"
   ]
  },
  {
   "cell_type": "code",
   "execution_count": 5,
   "metadata": {},
   "outputs": [
    {
     "data": {
      "text/plain": [
       "[1, 'a', 2.5]"
      ]
     },
     "execution_count": 5,
     "metadata": {},
     "output_type": "execute_result"
    }
   ],
   "source": [
    "L"
   ]
  },
  {
   "cell_type": "code",
   "execution_count": 6,
   "metadata": {},
   "outputs": [
    {
     "data": {
      "text/plain": [
       "[0, 1, 2, 3, 4, 5, 6, 7, 8, 9, 10]"
      ]
     },
     "execution_count": 6,
     "metadata": {},
     "output_type": "execute_result"
    }
   ],
   "source": [
    "L = list(range(11))\n",
    "L"
   ]
  },
  {
   "cell_type": "code",
   "execution_count": 7,
   "metadata": {},
   "outputs": [
    {
     "data": {
      "text/plain": [
       "[10, 9, 8, 7, 6, 5, 4, 3, 2, 1, 0]"
      ]
     },
     "execution_count": 7,
     "metadata": {},
     "output_type": "execute_result"
    }
   ],
   "source": [
    "L = list(range(10, -1, -1)) # List in reverse order.\n",
    "L"
   ]
  },
  {
   "cell_type": "markdown",
   "metadata": {},
   "source": [
    "Lists can also be created without using the `list()` function. An empty list is created using empty brackets, \\[\\], and a list of one or more items can be created by using a comma-separated sequence of items inside brackets."
   ]
  },
  {
   "cell_type": "code",
   "execution_count": 8,
   "metadata": {},
   "outputs": [],
   "source": [
    "empty_list = []"
   ]
  },
  {
   "cell_type": "code",
   "execution_count": 9,
   "metadata": {},
   "outputs": [],
   "source": [
    "L = [5, -12.5, 'hello', 20, ['cat', 11, 'cold'], 'H']"
   ]
  },
  {
   "cell_type": "markdown",
   "metadata": {},
   "source": [
    "**Elements in a list can be accessed through an index.** \n",
    "\n",
    "\\begin{array}{cccccc} \n",
    "L[0] & L[1] & L[2] & L[3] & L[4] & L[5] \\\\ \\hline\n",
    "5 & -12.5 & \\text{'hello'} & 20 & \\text{ ['cat', 11, 'cold'] } & \\text{ 'H' } \\\\ \\hline\n",
    "L[-6] & L[-5] & L[-4] & L[-3] & L[-2] & L[-1] \n",
    "\\end{array}\n",
    "\n",
    "**We can use the slice operator—repeatedly if necessary—to access items in the list**\n",
    "\n",
    "\\begin{array}{cccccc} \n",
    "L[0] &== & L[-6] &== & 5 \\\\\n",
    "L[2] &== & L[-4] &== & \\text{'hello'} \\\\\n",
    "L[2][1]& == & L[-4][1] &== & \\text{'e'} \\\\\n",
    "L[4][2]& == & L[4][-1] &== & L[-2][2] &== & L[-2][2] &== &  \\text{'cold'} \\\\\n",
    "L[4][2][1]& == & L[4][2][-3] &== & L[-2][-1][1] &== & L[-2][-1][-3]  &== &  \\text{'o'}\\\\\n",
    "\\end{array}"
   ]
  },
  {
   "cell_type": "code",
   "execution_count": 10,
   "metadata": {},
   "outputs": [
    {
     "name": "stdout",
     "output_type": "stream",
     "text": [
      "[-12.5, 'hello', 20, ['cat', 11, 'cold']]\n",
      "['hello', 20, ['cat', 11, 'cold']]\n",
      "[['cat', 11, 'cold'], 'H']\n",
      "[['cat', 11, 'cold'], 'H']\n",
      "[5, -12.5, 'hello', 20, ['cat', 11, 'cold']]\n",
      "[5]\n",
      "['hello']\n",
      "['hello', 20, ['cat', 11, 'cold']]\n",
      "[]\n"
     ]
    }
   ],
   "source": [
    "print(L[1:-1]) # Extracts all elements except the first and the last\n",
    "print(L[2:5]) # Extracts all elements from index 2 to 4\n",
    "print(L[4:]) # Extracts all elements from index 4\n",
    "print(L[-2:]) # alternate way to select from index 4\n",
    "print(L[:5])  # Extracts first five\n",
    "print(L[:-5]) # Extracts last five\n",
    "print(L[2:-3]) # Extracts all elements from 2 up to excluding last three\n",
    "print(L[-4:-1]) # Extracts using negative index\n",
    "print(L[-2:2]) # see what happens"
   ]
  },
  {
   "cell_type": "markdown",
   "metadata": {},
   "source": [
    "##### Slicing makes a copy"
   ]
  },
  {
   "cell_type": "code",
   "execution_count": 11,
   "metadata": {},
   "outputs": [],
   "source": [
    "A = [2, 3.5, 8, 10]"
   ]
  },
  {
   "cell_type": "code",
   "execution_count": 12,
   "metadata": {},
   "outputs": [],
   "source": [
    "B = A[:] # refer to a copy of the list referred to by A"
   ]
  },
  {
   "cell_type": "code",
   "execution_count": 13,
   "metadata": {},
   "outputs": [],
   "source": [
    "C = A # refer to the same list object as A"
   ]
  },
  {
   "cell_type": "code",
   "execution_count": 14,
   "metadata": {},
   "outputs": [
    {
     "name": "stdout",
     "output_type": "stream",
     "text": [
      "True\n",
      "False\n",
      "True\n"
     ]
    }
   ],
   "source": [
    "print(B == A)\n",
    "print(B is A)\n",
    "print(C is A)"
   ]
  },
  {
   "cell_type": "code",
   "execution_count": 15,
   "metadata": {},
   "outputs": [
    {
     "name": "stdout",
     "output_type": "stream",
     "text": [
      "[2, 0, 8, 10]\n"
     ]
    }
   ],
   "source": [
    "C[1] = 0\n",
    "print(A)"
   ]
  },
  {
   "cell_type": "markdown",
   "metadata": {},
   "source": [
    "### List Strides\n",
    "\n",
    "\\[start:end:step\\]\n",
    "Legal Python syntax: `L[1:10:2], L[:-1:1], L[::-1]`"
   ]
  },
  {
   "cell_type": "code",
   "execution_count": 16,
   "metadata": {},
   "outputs": [
    {
     "name": "stdout",
     "output_type": "stream",
     "text": [
      "[0, 2, 4, 6, 8]\n",
      "[0, 5, 10, 15]\n",
      "[5, 7, 9, 11, 13]\n",
      "[15, 13, 11, 9, 7]\n",
      "[19, 18, 17, 16, 15, 14, 13, 12, 11, 10, 9, 8, 7, 6, 5, 4, 3, 2, 1, 0]\n"
     ]
    }
   ],
   "source": [
    "L = list(range(20))\n",
    "print(L[:10:2]) # Extracts even index elements from index position 0 to 10.  \n",
    "print(L[::5]) # Extracts every fifth item by striding\n",
    "print(L[5:15:2]) # Extracts even index elements from index position 5 to 15.\n",
    "print(L[15:5:-2]) # Extracts even index elements from index position 15 to 5 in reverse order.\n",
    "print(L[::-1]) # Reverse the list"
   ]
  },
  {
   "cell_type": "markdown",
   "metadata": {},
   "source": [
    "##### Suppose we want to set every odd-indexed item (i.e., L[1], L[3], etc.) to 0."
   ]
  },
  {
   "cell_type": "code",
   "execution_count": 17,
   "metadata": {},
   "outputs": [
    {
     "data": {
      "text/plain": [
       "[0, 0, 2, 0, 4, 0, 6, 0, 8, 0, 10, 0, 12, 0, 14, 0, 16, 0, 18, 0]"
      ]
     },
     "execution_count": 17,
     "metadata": {},
     "output_type": "execute_result"
    }
   ],
   "source": [
    "L[1::2] = [0] * len(L[1::2])\n",
    "L"
   ]
  }
 ],
 "metadata": {
  "kernelspec": {
   "display_name": "Python 3",
   "language": "python",
   "name": "python3"
  },
  "language_info": {
   "codemirror_mode": {
    "name": "ipython",
    "version": 3
   },
   "file_extension": ".py",
   "mimetype": "text/x-python",
   "name": "python",
   "nbconvert_exporter": "python",
   "pygments_lexer": "ipython3",
   "version": "3.5.4"
  }
 },
 "nbformat": 4,
 "nbformat_minor": 2
}
