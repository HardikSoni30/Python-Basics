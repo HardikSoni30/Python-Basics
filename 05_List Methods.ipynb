{
  "cells": [
    {
      "metadata": {},
      "cell_type": "markdown",
      "source": [
        "| Method                            | Description                                                                                                                                       |\n",
        "|-----------------------------------|---------------------------------------------------------------------------------------------------------------------------------------------------|\n",
        "| `cmp(list1, list2)`               | It compares the elements of both the lists, *list1* and *list2*.                                                                                  |\n",
        "| `list(seq)`                       | It converts a tuple into a list.                                                                                                                  |\n",
        "| `L.count(item)`                   | It returns number of times the item occurs in the list L.                                                                                         |\n",
        "| `L.append(item)`                  | It adds the item to the end of list L.                                                                                                            |\n",
        "| `L.index(item, start, end)`       | It returns the index number of the item. If item occurs more than one time, it returns the lowest index number (or in the `start:end` slice of L) |\n",
        "| `L.insert(ix, item)`              | It inserts the given item onto the given index number while the elements in the list take one right shift.                                        |\n",
        "| `L.extend(seq)` **or** `L += seq` | It adds the element of sequence at the end of the list; the operator `+=` does the same thing.                                                    |\n",
        "| `L.pop()`                         | Returns and removes the rightmost item of list L                                                                                                  |\n",
        "| `L.pop(ix)`                       | Returns and removes the item at index position `int ix` in L.                                                                                     |\n",
        "| `L.remove(x)`                     | Removes the leftmost occurrence of item x from list L, or raises a `ValueError` exception if x is not found.                                      |\n",
        "| `L.reverse()`                     | It reverses the position (index) of the items in the list L.                                                                                      |\n",
        "| `L.sort(...)`                     | It sorts the elements inside the list.                                                                                                            |"
      ]
    },
    {
      "metadata": {
        "trusted": false
      },
      "cell_type": "code",
      "source": [
        "from random import randint, seed\n",
        "seed(42) # Set the random number generator to a fixed sequence.\n",
        "L = []\n",
        "for _ in range(1, 12):\n",
        "    L.append(randint(-5, 50))\n",
        "L"
      ],
      "execution_count": 1,
      "outputs": [
        {
          "data": {
            "text/plain": "[35, 2, -4, 42, 12, 10, 9, 3, 42, 1, 38]"
          },
          "execution_count": 1,
          "metadata": {},
          "output_type": "execute_result"
        }
      ]
    },
    {
      "metadata": {
        "trusted": false
      },
      "cell_type": "code",
      "source": [
        "L1 = L.copy() # If you want to keep original list intact."
      ],
      "execution_count": 2,
      "outputs": []
    },
    {
      "metadata": {
        "trusted": false
      },
      "cell_type": "code",
      "source": [
        "L1.insert(2, 2)\n",
        "L1"
      ],
      "execution_count": 3,
      "outputs": [
        {
          "data": {
            "text/plain": "[35, 2, 2, -4, 42, 12, 10, 9, 3, 42, 1, 38]"
          },
          "execution_count": 3,
          "metadata": {},
          "output_type": "execute_result"
        }
      ]
    },
    {
      "metadata": {
        "trusted": false
      },
      "cell_type": "code",
      "source": [
        "ix = L1.index(42)\n",
        "print(f'42 is at {ix} in list ')"
      ],
      "execution_count": 4,
      "outputs": [
        {
          "name": "stdout",
          "output_type": "stream",
          "text": "42 is at 4 in list \n"
        }
      ]
    },
    {
      "metadata": {
        "trusted": false
      },
      "cell_type": "code",
      "source": [
        "print(L1.count(3))\n",
        "print(L1.count(2))"
      ],
      "execution_count": 5,
      "outputs": [
        {
          "name": "stdout",
          "output_type": "stream",
          "text": "1\n2\n"
        }
      ]
    },
    {
      "metadata": {
        "trusted": false
      },
      "cell_type": "code",
      "source": [
        "# Following will not work as sort() method returns None.\n",
        "# L2 = L.sort()\n",
        "# L2\n",
        "L2 = sorted(L)\n",
        "L2"
      ],
      "execution_count": 6,
      "outputs": [
        {
          "data": {
            "text/plain": "[-4, 1, 2, 3, 9, 10, 12, 35, 38, 42, 42]"
          },
          "execution_count": 6,
          "metadata": {},
          "output_type": "execute_result"
        }
      ]
    },
    {
      "metadata": {},
      "cell_type": "markdown",
      "source": [
        "## Deleting elements from List"
      ]
    },
    {
      "metadata": {},
      "cell_type": "markdown",
      "source": [
        "### pop Operator"
      ]
    },
    {
      "metadata": {
        "trusted": false
      },
      "cell_type": "code",
      "source": [
        "L1.pop()"
      ],
      "execution_count": 7,
      "outputs": [
        {
          "data": {
            "text/plain": "38"
          },
          "execution_count": 7,
          "metadata": {},
          "output_type": "execute_result"
        }
      ]
    },
    {
      "metadata": {
        "trusted": false
      },
      "cell_type": "code",
      "source": [
        "L1"
      ],
      "execution_count": 8,
      "outputs": [
        {
          "data": {
            "text/plain": "[35, 2, 2, -4, 42, 12, 10, 9, 3, 42, 1]"
          },
          "execution_count": 8,
          "metadata": {},
          "output_type": "execute_result"
        }
      ]
    },
    {
      "metadata": {
        "trusted": false
      },
      "cell_type": "code",
      "source": [
        "L1.pop(3)"
      ],
      "execution_count": 9,
      "outputs": [
        {
          "data": {
            "text/plain": "-4"
          },
          "execution_count": 9,
          "metadata": {},
          "output_type": "execute_result"
        }
      ]
    },
    {
      "metadata": {
        "trusted": false
      },
      "cell_type": "code",
      "source": [
        "L1"
      ],
      "execution_count": 10,
      "outputs": [
        {
          "data": {
            "text/plain": "[35, 2, 2, 42, 12, 10, 9, 3, 42, 1]"
          },
          "execution_count": 10,
          "metadata": {},
          "output_type": "execute_result"
        }
      ]
    },
    {
      "metadata": {},
      "cell_type": "markdown",
      "source": [
        "### remove Operator"
      ]
    },
    {
      "metadata": {
        "trusted": false
      },
      "cell_type": "code",
      "source": [
        "L1 = L.copy() \n",
        "L1"
      ],
      "execution_count": 11,
      "outputs": [
        {
          "data": {
            "text/plain": "[35, 2, -4, 42, 12, 10, 9, 3, 42, 1, 38]"
          },
          "execution_count": 11,
          "metadata": {},
          "output_type": "execute_result"
        }
      ]
    },
    {
      "metadata": {
        "trusted": false
      },
      "cell_type": "code",
      "source": [
        "L1.remove(42)"
      ],
      "execution_count": 12,
      "outputs": []
    },
    {
      "metadata": {
        "trusted": false
      },
      "cell_type": "code",
      "source": [
        "# It removes only left most item\n",
        "L1 "
      ],
      "execution_count": 13,
      "outputs": [
        {
          "data": {
            "text/plain": "[35, 2, -4, 12, 10, 9, 3, 42, 1, 38]"
          },
          "execution_count": 13,
          "metadata": {},
          "output_type": "execute_result"
        }
      ]
    },
    {
      "metadata": {},
      "cell_type": "markdown",
      "source": [
        "### del Operator\n",
        "\n",
        "The *del* operator deletes the value on the provided index, but it does not store the value for further use. "
      ]
    },
    {
      "metadata": {
        "trusted": false
      },
      "cell_type": "code",
      "source": [
        "L1 = L.copy() \n",
        "L1"
      ],
      "execution_count": 14,
      "outputs": [
        {
          "data": {
            "text/plain": "[35, 2, -4, 42, 12, 10, 9, 3, 42, 1, 38]"
          },
          "execution_count": 14,
          "metadata": {},
          "output_type": "execute_result"
        }
      ]
    },
    {
      "metadata": {
        "trusted": false
      },
      "cell_type": "code",
      "source": [
        "del L1[2]\n",
        "L1"
      ],
      "execution_count": 15,
      "outputs": [
        {
          "data": {
            "text/plain": "[35, 2, 42, 12, 10, 9, 3, 42, 1, 38]"
          },
          "execution_count": 15,
          "metadata": {},
          "output_type": "execute_result"
        }
      ]
    },
    {
      "metadata": {
        "trusted": false
      },
      "cell_type": "code",
      "source": [
        "# Deleting more than one value using slicing.\n",
        "del L1[2:5]\n",
        "L1"
      ],
      "execution_count": 16,
      "outputs": [
        {
          "data": {
            "text/plain": "[35, 2, 9, 3, 42, 1, 38]"
          },
          "execution_count": 16,
          "metadata": {},
          "output_type": "execute_result"
        }
      ]
    }
  ],
  "metadata": {
    "kernelspec": {
      "name": "python3",
      "display_name": "Python 3",
      "language": "python"
    },
    "language_info": {
      "mimetype": "text/x-python",
      "nbconvert_exporter": "python",
      "name": "python",
      "pygments_lexer": "ipython3",
      "version": "3.5.4",
      "file_extension": ".py",
      "codemirror_mode": {
        "version": 3,
        "name": "ipython"
      }
    }
  },
  "nbformat": 4,
  "nbformat_minor": 2
}