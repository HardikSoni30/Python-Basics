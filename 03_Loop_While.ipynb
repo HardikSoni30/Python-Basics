{
  "cells": [
    {
      "metadata": {},
      "cell_type": "markdown",
      "source": "# While loop\n\nA **while** loop runs as long as a condition evaluates to *True*:\n\nA while statement can have an optional else clause.\n\nThe syntax for the **while** loop is:"
    },
    {
      "metadata": {},
      "cell_type": "markdown",
      "source": "```python\nwhile loop-continuation-condition:\n    Loop body\n    statement(s)\n    ```"
    },
    {
      "metadata": {
        "trusted": false
      },
      "cell_type": "code",
      "source": "t = 0 # this is the initial variable\ndt = 0.5 # increment  \nT = 2 # Sentinel Value\nwhile t <= T:\n    print(t)\n    t += dt\nelse:   # This is optional and generally not in practice. \n    print('This is outside of while loop as:')\n    print(f't = {t} > T = {T}')",
      "execution_count": 2,
      "outputs": [
        {
          "name": "stdout",
          "output_type": "stream",
          "text": "0\n0.5\n1.0\n1.5\n2.0\nThis is outside of while loop as:\nt = 2.5 > T = 2\n"
        }
      ]
    },
    {
      "metadata": {
        "trusted": false
      },
      "cell_type": "code",
      "source": "# Square and Cube\nn = 1\nwhile n < 10:\n    print(n, n**2, n**3, sep='\\t')\n    n += 1",
      "execution_count": 3,
      "outputs": [
        {
          "name": "stdout",
          "output_type": "stream",
          "text": "1\t1\t1\n2\t4\t8\n3\t9\t27\n4\t16\t64\n5\t25\t125\n6\t36\t216\n7\t49\t343\n8\t64\t512\n9\t81\t729\n"
        }
      ]
    },
    {
      "metadata": {},
      "cell_type": "markdown",
      "source": "Any **`for`** loop can be implemented as a **`while`** loop. "
    },
    {
      "metadata": {
        "trusted": false
      },
      "cell_type": "code",
      "source": "word = \"python\"\n\nfor character in word:\n    print(character)",
      "execution_count": 4,
      "outputs": [
        {
          "name": "stdout",
          "output_type": "stream",
          "text": "p\ny\nt\nh\no\nn\n"
        }
      ]
    },
    {
      "metadata": {
        "trusted": false
      },
      "cell_type": "code",
      "source": "word = \"python\"\npos = 0 #initial position is zero\n\nwhile pos < len(word):\n    print (word[pos])\n    #increment the position after printing the letter of that position\n    pos += 1",
      "execution_count": 5,
      "outputs": [
        {
          "name": "stdout",
          "output_type": "stream",
          "text": "p\ny\nt\nh\no\nn\n"
        }
      ]
    },
    {
      "metadata": {
        "trusted": false
      },
      "cell_type": "code",
      "source": "# Fibonacci series:\n# the sum of two elements defines the next\na, b = 0, 1\nwhile b < 50:\n    print(a, end=', ')\n    a, b = b, a + b",
      "execution_count": 6,
      "outputs": [
        {
          "name": "stdout",
          "output_type": "stream",
          "text": "0, 1, 1, 2, 3, 5, 8, 13, 21, "
        }
      ]
    },
    {
      "metadata": {},
      "cell_type": "markdown",
      "source": "Let's create a command-line guessing game that uses a **`while`** loop effectively. "
    },
    {
      "metadata": {
        "trusted": false
      },
      "cell_type": "code",
      "source": "import random\n\nnumber = random.randint(1, 25)\n\nnumber_of_guesses = 0\n\nprint(\"Guess a magic number between 0 and 25\")\n\nwhile number_of_guesses < 5:\n    \n    guess = int(input('Enter your guess:'))     \n\n    number_of_guesses = number_of_guesses + 1\n\n    if guess < number:\n        print('Your guess is too low')\n\n    if guess > number:\n        print('Your guess is too high')\n\n    if guess == number:\n        break\n\nif guess == number:\n    print('You guessed the number in ' + str(number_of_guesses) + ' attempts!')\n\nelse:\n    print('You did not guess the number. The number was ' + str(number))",
      "execution_count": 7,
      "outputs": [
        {
          "name": "stdout",
          "output_type": "stream",
          "text": "Guess a magic number between 0 and 25\nEnter your guess:17\nYour guess is too high\nEnter your guess:6\nYour guess is too low\nEnter your guess:12\nYou guessed the number in 3 attempts!\n"
        }
      ]
    },
    {
      "metadata": {},
      "cell_type": "markdown",
      "source": "Now, let's us make the program that repeatedly prompts the user to enter a guess until the correct guess is entered. "
    },
    {
      "metadata": {
        "trusted": false
      },
      "cell_type": "code",
      "source": "import random\n\nnumber = random.randint(1, 25)\n\nnumber_of_guesses = 0\n\nprint(\"Guess a magic number between 0 and 25\")\n\nguess = -1 # as this number will not be generated. \n\nwhile guess != number: # Controlling a Loop with a Sentinel Value.\n    \n    guess = int(input('Enter your guess:'))     \n\n    number_of_guesses = number_of_guesses + 1\n\n    if guess < number:\n        print('Your guess is too low')\n\n    if guess > number:\n        print('Your guess is too high')\n\n#     if guess == number:\n#         break\n\nif guess == number:\n    print('You guessed the number in ' + str(number_of_guesses) + ' attempts!')",
      "execution_count": 8,
      "outputs": [
        {
          "name": "stdout",
          "output_type": "stream",
          "text": "Guess a magic number between 0 and 25\nEnter your guess:13\nYour guess is too high\nEnter your guess:4\nYour guess is too low\nEnter your guess:9\nYour guess is too high\nEnter your guess:5\nYour guess is too low\nEnter your guess:8\nYour guess is too high\nEnter your guess:6\nYour guess is too low\nEnter your guess:7\nYou guessed the number in 7 attempts!\n"
        }
      ]
    },
    {
      "metadata": {
        "trusted": false
      },
      "cell_type": "code",
      "source": "import random\n\nnumber = random.randint(1, 25)\n\nnumber_of_guesses = 0\n\nprint(\"Guess a magic number between 0 and 25\")\n\nguess = -1 \n\nwhile True: # Changed the condition\n    \n    guess = int(input('Enter your guess:'))     \n\n    number_of_guesses = number_of_guesses + 1\n\n    if guess < number:\n        print('Your guess is too low')\n\n    if guess > number:\n        print('Your guess is too high')\n\n    if guess == number:\n        break\n\nif guess == number:\n    print('You guessed the number in ' + str(number_of_guesses) + ' attempts!')\n",
      "execution_count": 9,
      "outputs": [
        {
          "name": "stdout",
          "output_type": "stream",
          "text": "Guess a magic number between 0 and 25\nEnter your guess:12\nYour guess is too high\nEnter your guess:6\nYour guess is too high\nEnter your guess:2\nYour guess is too low\nEnter your guess:5\nYour guess is too high\nEnter your guess:3\nYou guessed the number in 5 attempts!\n"
        }
      ]
    },
    {
      "metadata": {},
      "cell_type": "markdown",
      "source": "**Note: while True** means loop forever. The while statement takes an expression and executes the loop body while the expression evaluates to (boolean) \"true\". True always evaluates to boolean \"true\" and thus executes the loop body indefinitely."
    }
  ],
  "metadata": {
    "kernelspec": {
      "name": "python3",
      "display_name": "Python 3",
      "language": "python"
    },
    "language_info": {
      "mimetype": "text/x-python",
      "nbconvert_exporter": "python",
      "name": "python",
      "pygments_lexer": "ipython3",
      "version": "3.5.4",
      "file_extension": ".py",
      "codemirror_mode": {
        "version": 3,
        "name": "ipython"
      }
    }
  },
  "nbformat": 4,
  "nbformat_minor": 2
}