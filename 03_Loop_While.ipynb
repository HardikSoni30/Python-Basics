{
 "cells": [
  {
   "cell_type": "markdown",
   "metadata": {},
   "source": [
    "# While loop\n",
    "\n",
    "A **while** loop runs as long as a condition evaluates to *True*:\n",
    "\n",
    "A while statement can have an optional else clause.\n",
    "\n",
    "The syntax for the **while** loop is:"
   ]
  },
  {
   "cell_type": "markdown",
   "metadata": {},
   "source": [
    "```python\n",
    "while loop-continuation-condition:\n",
    "    Loop body\n",
    "    statement(s)\n",
    "    ```"
   ]
  },
  {
   "cell_type": "code",
   "execution_count": 2,
   "metadata": {},
   "outputs": [
    {
     "name": "stdout",
     "output_type": "stream",
     "text": [
      "0\n",
      "0.5\n",
      "1.0\n",
      "1.5\n",
      "2.0\n",
      "This is outside of while loop as:\n",
      "t = 2.5 > T = 2\n"
     ]
    }
   ],
   "source": [
    "t = 0 # this is the initial variable\n",
    "dt = 0.5 # increment  \n",
    "T = 2 # Sentinel Value\n",
    "while t <= T:\n",
    "    print(t)\n",
    "    t += dt\n",
    "else:   # This is optional and generally not in practice. \n",
    "    print('This is outside of while loop as:')\n",
    "    print(f't = {t} > T = {T}')"
   ]
  },
  {
   "cell_type": "code",
   "execution_count": 3,
   "metadata": {},
   "outputs": [
    {
     "name": "stdout",
     "output_type": "stream",
     "text": [
      "1\t1\t1\n",
      "2\t4\t8\n",
      "3\t9\t27\n",
      "4\t16\t64\n",
      "5\t25\t125\n",
      "6\t36\t216\n",
      "7\t49\t343\n",
      "8\t64\t512\n",
      "9\t81\t729\n"
     ]
    }
   ],
   "source": [
    "# Square and Cube\n",
    "n = 1\n",
    "while n < 10:\n",
    "    print(n, n**2, n**3, sep='\\t')\n",
    "    n += 1"
   ]
  },
  {
   "cell_type": "markdown",
   "metadata": {},
   "source": [
    "Any **`for`** loop can be implemented as a **`while`** loop. "
   ]
  },
  {
   "cell_type": "code",
   "execution_count": 4,
   "metadata": {},
   "outputs": [
    {
     "name": "stdout",
     "output_type": "stream",
     "text": [
      "p\n",
      "y\n",
      "t\n",
      "h\n",
      "o\n",
      "n\n"
     ]
    }
   ],
   "source": [
    "word = \"python\"\n",
    "\n",
    "for character in word:\n",
    "    print(character)"
   ]
  },
  {
   "cell_type": "code",
   "execution_count": 5,
   "metadata": {},
   "outputs": [
    {
     "name": "stdout",
     "output_type": "stream",
     "text": [
      "p\n",
      "y\n",
      "t\n",
      "h\n",
      "o\n",
      "n\n"
     ]
    }
   ],
   "source": [
    "word = \"python\"\n",
    "pos = 0 #initial position is zero\n",
    "\n",
    "while pos < len(word):\n",
    "    print (word[pos])\n",
    "    #increment the position after printing the letter of that position\n",
    "    pos += 1"
   ]
  },
  {
   "cell_type": "code",
   "execution_count": 6,
   "metadata": {},
   "outputs": [
    {
     "name": "stdout",
     "output_type": "stream",
     "text": [
      "0, 1, 1, 2, 3, 5, 8, 13, 21, "
     ]
    }
   ],
   "source": [
    "# Fibonacci series:\n",
    "# the sum of two elements defines the next\n",
    "a, b = 0, 1\n",
    "while b < 50:\n",
    "    print(a, end=', ')\n",
    "    a, b = b, a + b"
   ]
  },
  {
   "cell_type": "markdown",
   "metadata": {},
   "source": [
    "Let's create a command-line guessing game that uses a **`while`** loop effectively. "
   ]
  },
  {
   "cell_type": "code",
   "execution_count": 7,
   "metadata": {},
   "outputs": [
    {
     "name": "stdout",
     "output_type": "stream",
     "text": [
      "Guess a magic number between 0 and 25\n",
      "Enter your guess:17\n",
      "Your guess is too high\n",
      "Enter your guess:6\n",
      "Your guess is too low\n",
      "Enter your guess:12\n",
      "You guessed the number in 3 attempts!\n"
     ]
    }
   ],
   "source": [
    "import random\n",
    "\n",
    "number = random.randint(1, 25)\n",
    "\n",
    "number_of_guesses = 0\n",
    "\n",
    "print(\"Guess a magic number between 0 and 25\")\n",
    "\n",
    "while number_of_guesses < 5:\n",
    "    \n",
    "    guess = int(input('Enter your guess:'))     \n",
    "\n",
    "    number_of_guesses = number_of_guesses + 1\n",
    "\n",
    "    if guess < number:\n",
    "        print('Your guess is too low')\n",
    "\n",
    "    if guess > number:\n",
    "        print('Your guess is too high')\n",
    "\n",
    "    if guess == number:\n",
    "        break\n",
    "\n",
    "if guess == number:\n",
    "    print('You guessed the number in ' + str(number_of_guesses) + ' attempts!')\n",
    "\n",
    "else:\n",
    "    print('You did not guess the number. The number was ' + str(number))"
   ]
  },
  {
   "cell_type": "markdown",
   "metadata": {},
   "source": [
    "Now, let's us make the program that repeatedly prompts the user to enter a guess until the correct guess is entered. "
   ]
  },
  {
   "cell_type": "code",
   "execution_count": 8,
   "metadata": {},
   "outputs": [
    {
     "name": "stdout",
     "output_type": "stream",
     "text": [
      "Guess a magic number between 0 and 25\n",
      "Enter your guess:13\n",
      "Your guess is too high\n",
      "Enter your guess:4\n",
      "Your guess is too low\n",
      "Enter your guess:9\n",
      "Your guess is too high\n",
      "Enter your guess:5\n",
      "Your guess is too low\n",
      "Enter your guess:8\n",
      "Your guess is too high\n",
      "Enter your guess:6\n",
      "Your guess is too low\n",
      "Enter your guess:7\n",
      "You guessed the number in 7 attempts!\n"
     ]
    }
   ],
   "source": [
    "import random\n",
    "\n",
    "number = random.randint(1, 25)\n",
    "\n",
    "number_of_guesses = 0\n",
    "\n",
    "print(\"Guess a magic number between 0 and 25\")\n",
    "\n",
    "guess = -1 # as this number will not be generated. \n",
    "\n",
    "while guess != number: # Controlling a Loop with a Sentinel Value.\n",
    "    \n",
    "    guess = int(input('Enter your guess:'))     \n",
    "\n",
    "    number_of_guesses = number_of_guesses + 1\n",
    "\n",
    "    if guess < number:\n",
    "        print('Your guess is too low')\n",
    "\n",
    "    if guess > number:\n",
    "        print('Your guess is too high')\n",
    "\n",
    "#     if guess == number:\n",
    "#         break\n",
    "\n",
    "if guess == number:\n",
    "    print('You guessed the number in ' + str(number_of_guesses) + ' attempts!')"
   ]
  },
  {
   "cell_type": "code",
   "execution_count": 9,
   "metadata": {},
   "outputs": [
    {
     "name": "stdout",
     "output_type": "stream",
     "text": [
      "Guess a magic number between 0 and 25\n",
      "Enter your guess:12\n",
      "Your guess is too high\n",
      "Enter your guess:6\n",
      "Your guess is too high\n",
      "Enter your guess:2\n",
      "Your guess is too low\n",
      "Enter your guess:5\n",
      "Your guess is too high\n",
      "Enter your guess:3\n",
      "You guessed the number in 5 attempts!\n"
     ]
    }
   ],
   "source": [
    "import random\n",
    "\n",
    "number = random.randint(1, 25)\n",
    "\n",
    "number_of_guesses = 0\n",
    "\n",
    "print(\"Guess a magic number between 0 and 25\")\n",
    "\n",
    "guess = -1 \n",
    "\n",
    "while True: # Changed the condition\n",
    "    \n",
    "    guess = int(input('Enter your guess:'))     \n",
    "\n",
    "    number_of_guesses = number_of_guesses + 1\n",
    "\n",
    "    if guess < number:\n",
    "        print('Your guess is too low')\n",
    "\n",
    "    if guess > number:\n",
    "        print('Your guess is too high')\n",
    "\n",
    "    if guess == number:\n",
    "        break\n",
    "\n",
    "if guess == number:\n",
    "    print('You guessed the number in ' + str(number_of_guesses) + ' attempts!')\n"
   ]
  },
  {
   "cell_type": "markdown",
   "metadata": {},
   "source": [
    "**Note: while True** means loop forever. The while statement takes an expression and executes the loop body while the expression evaluates to (boolean) \"true\". True always evaluates to boolean \"true\" and thus executes the loop body indefinitely."
   ]
  }
 ],
 "metadata": {
  "kernelspec": {
   "display_name": "Python 3",
   "language": "python",
   "name": "python3"
  },
  "language_info": {
   "codemirror_mode": {
    "name": "ipython",
    "version": 3
   },
   "file_extension": ".py",
   "mimetype": "text/x-python",
   "name": "python",
   "nbconvert_exporter": "python",
   "pygments_lexer": "ipython3",
   "version": "3.7.9"
  }
 },
 "nbformat": 4,
 "nbformat_minor": 4
}
